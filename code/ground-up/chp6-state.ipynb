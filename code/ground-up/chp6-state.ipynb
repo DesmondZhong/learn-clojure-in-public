{
 "cells": [
  {
   "cell_type": "code",
   "execution_count": 1,
   "id": "directed-commission",
   "metadata": {},
   "outputs": [
    {
     "data": {
      "text/plain": [
       "nil"
      ]
     },
     "execution_count": 1,
     "metadata": {},
     "output_type": "execute_result"
    }
   ],
   "source": [
    "(ns groud-up.ch6)"
   ]
  },
  {
   "cell_type": "markdown",
   "id": "empirical-virgin",
   "metadata": {},
   "source": [
    "### Immutability\n",
    "- the references we've used in `let` bindings and function arguments are immutable: they never change\n",
    "- Functions remember the values of those symbols at the time the function was constructed"
   ]
  },
  {
   "cell_type": "code",
   "execution_count": 2,
   "id": "efficient-evans",
   "metadata": {},
   "outputs": [
    {
     "data": {
      "text/plain": [
       "#'groud-up.ch6/present"
      ]
     },
     "execution_count": 2,
     "metadata": {},
     "output_type": "execute_result"
    }
   ],
   "source": [
    "(defn present\n",
    "    [gift]\n",
    "    (fn [] gift))"
   ]
  },
  {
   "cell_type": "code",
   "execution_count": 3,
   "id": "parallel-wheel",
   "metadata": {},
   "outputs": [
    {
     "data": {
      "text/plain": [
       "#'groud-up.ch6/green-box"
      ]
     },
     "execution_count": 3,
     "metadata": {},
     "output_type": "execute_result"
    }
   ],
   "source": [
    "(def green-box (present \"clockwork beetle\"))"
   ]
  },
  {
   "cell_type": "code",
   "execution_count": 4,
   "id": "fuzzy-service",
   "metadata": {},
   "outputs": [
    {
     "data": {
      "text/plain": [
       "#'groud-up.ch6/red-box"
      ]
     },
     "execution_count": 4,
     "metadata": {},
     "output_type": "execute_result"
    }
   ],
   "source": [
    "(def red-box (present \"plush tiger\"))"
   ]
  },
  {
   "cell_type": "code",
   "execution_count": 5,
   "id": "alert-monkey",
   "metadata": {},
   "outputs": [
    {
     "data": {
      "text/plain": [
       "\"plush tiger\""
      ]
     },
     "execution_count": 5,
     "metadata": {},
     "output_type": "execute_result"
    }
   ],
   "source": [
    "(red-box)"
   ]
  },
  {
   "cell_type": "code",
   "execution_count": 6,
   "id": "comparable-power",
   "metadata": {},
   "outputs": [
    {
     "data": {
      "text/plain": [
       "\"clockwork beetle\""
      ]
     },
     "execution_count": 6,
     "metadata": {},
     "output_type": "execute_result"
    }
   ],
   "source": [
    "(green-box)"
   ]
  },
  {
   "cell_type": "markdown",
   "id": "interesting-teacher",
   "metadata": {},
   "source": [
    "- the `present` function returns a new function\n",
    "- That function takes no arguemnts and always return the gift.\n",
    "- Because `gift` if not an argument ot the inner function, it refers to the value from the outer function body\n",
    "- When we packaged up the red and green boxes, the functions we created carried with them a memory of the `gift` symbol's value (which is in enclosing scopes) (even if the value are not present in memory.)\n",
    "- This is called __closing over__ the `gift` variable.\n",
    "- The inner function si called a __closure__. \n",
    "- In Clojure, new functions close over _all_ variables except their arguments . "
   ]
  },
  {
   "cell_type": "markdown",
   "id": "divided-liquid",
   "metadata": {},
   "source": [
    "### Delays\n",
    "- Because functions close over variables, they can be used to _defer_ evaluation of expressions"
   ]
  },
  {
   "cell_type": "code",
   "execution_count": 7,
   "id": "inner-authorization",
   "metadata": {},
   "outputs": [
    {
     "name": "stdout",
     "output_type": "stream",
     "text": [
      "\"Adding\"\n"
     ]
    },
    {
     "data": {
      "text/plain": [
       "3"
      ]
     },
     "execution_count": 7,
     "metadata": {},
     "output_type": "execute_result"
    }
   ],
   "source": [
    "(do (prn \"Adding\") (+ 1 2))"
   ]
  },
  {
   "cell_type": "code",
   "execution_count": 8,
   "id": "higher-wealth",
   "metadata": {},
   "outputs": [
    {
     "data": {
      "text/plain": [
       "#'groud-up.ch6/later"
      ]
     },
     "execution_count": 8,
     "metadata": {},
     "output_type": "execute_result"
    }
   ],
   "source": [
    "(def later (fn [] (prn \"Adding\") (+ 1 2)))"
   ]
  },
  {
   "cell_type": "code",
   "execution_count": 9,
   "id": "floppy-casino",
   "metadata": {},
   "outputs": [
    {
     "name": "stdout",
     "output_type": "stream",
     "text": [
      "\"Adding\"\n"
     ]
    },
    {
     "data": {
      "text/plain": [
       "3"
      ]
     },
     "execution_count": 9,
     "metadata": {},
     "output_type": "execute_result"
    }
   ],
   "source": [
    "(later)"
   ]
  },
  {
   "cell_type": "markdown",
   "id": "graphic-boutique",
   "metadata": {},
   "source": [
    "- Evaluating `(def later ...)` did not evaluate the expressions in the function body. Only when we invoked the function `later` did Clojure print strings and return a value. \n",
    "- This is the basis of _concurrency_, evaluating expressions outside their normal, sequential order\n",
    "- Deferrign evaluation is so common that there's a standard macro for it, called `delay`."
   ]
  },
  {
   "cell_type": "code",
   "execution_count": 10,
   "id": "broad-visiting",
   "metadata": {},
   "outputs": [
    {
     "data": {
      "text/plain": [
       "#'groud-up.ch6/later"
      ]
     },
     "execution_count": 10,
     "metadata": {},
     "output_type": "execute_result"
    }
   ],
   "source": [
    "(def later (delay (prn \"Adding\") (+ 1 2)))"
   ]
  },
  {
   "cell_type": "code",
   "execution_count": 11,
   "id": "modular-receptor",
   "metadata": {},
   "outputs": [
    {
     "data": {
      "text/plain": [
       "#delay[{:status :pending, :val nil} 0xadefa90]"
      ]
     },
     "execution_count": 11,
     "metadata": {},
     "output_type": "execute_result"
    }
   ],
   "source": [
    "later"
   ]
  },
  {
   "cell_type": "code",
   "execution_count": 12,
   "id": "threatened-clerk",
   "metadata": {},
   "outputs": [
    {
     "name": "stdout",
     "output_type": "stream",
     "text": [
      "\"Adding\"\n"
     ]
    },
    {
     "data": {
      "text/plain": [
       "3"
      ]
     },
     "execution_count": 12,
     "metadata": {},
     "output_type": "execute_result"
    }
   ],
   "source": [
    "(deref later)"
   ]
  },
  {
   "cell_type": "code",
   "execution_count": 13,
   "id": "accredited-athens",
   "metadata": {},
   "outputs": [
    {
     "data": {
      "text/plain": [
       "3"
      ]
     },
     "execution_count": 13,
     "metadata": {},
     "output_type": "execute_result"
    }
   ],
   "source": [
    "(deref later) ;; notice that nothing prints out!!!"
   ]
  },
  {
   "cell_type": "markdown",
   "id": "skilled-pittsburgh",
   "metadata": {},
   "source": [
    "- Instead of a function, `delay` creates a special type of Delay object: an identity which refers to those expressions which should be evaluated later. \n",
    "- We extract, or _dereference_, the value of that identity with `deref`. \n",
    "- `Delay` follows the same rule as functions, closing over lexical scope - because `delay` actually macroexpands into an anonymous function"
   ]
  },
  {
   "cell_type": "code",
   "execution_count": 14,
   "id": "automated-worth",
   "metadata": {},
   "outputs": [
    {
     "name": "stdout",
     "output_type": "stream",
     "text": [
      "(defmacro delay\n",
      "  \"Takes a body of expressions and yields a Delay object that will\n",
      "  invoke the body only the first time it is forced (with force or deref/@), and\n",
      "  will cache the result and return it on all subsequent force\n",
      "  calls. See also - realized?\"\n",
      "  {:added \"1.0\"}\n",
      "  [& body]\n",
      "    (list 'new 'clojure.lang.Delay (list* `^{:once true} fn* [] body)))\n"
     ]
    },
    {
     "data": {
      "text/plain": [
       "nil"
      ]
     },
     "execution_count": 14,
     "metadata": {},
     "output_type": "execute_result"
    }
   ],
   "source": [
    "(clojure.repl/source delay)"
   ]
  },
  {
   "cell_type": "markdown",
   "id": "recreational-delhi",
   "metadata": {},
   "source": [
    "Why `Delay` object instead of just a function?\n",
    "- Since delays only evaluate their expressions once. They remember their value after the first evaluation and return ir for every successive `deref`"
   ]
  },
  {
   "cell_type": "code",
   "execution_count": 15,
   "id": "stone-stephen",
   "metadata": {},
   "outputs": [
    {
     "data": {
      "text/plain": [
       "3"
      ]
     },
     "execution_count": 15,
     "metadata": {},
     "output_type": "execute_result"
    }
   ],
   "source": [
    "(deref later)  ;; nothing prints out!!!"
   ]
  },
  {
   "cell_type": "code",
   "execution_count": 16,
   "id": "central-mailing",
   "metadata": {},
   "outputs": [
    {
     "data": {
      "text/plain": [
       "3"
      ]
     },
     "execution_count": 16,
     "metadata": {},
     "output_type": "execute_result"
    }
   ],
   "source": [
    "@later ;; shortcut for deref!!!"
   ]
  },
  {
   "cell_type": "markdown",
   "id": "unauthorized-nickname",
   "metadata": {},
   "source": [
    "### Future\n",
    "- what if we wanted to opportunistically defer computation?\n",
    "- `future` is a delay which is evaluated in parallel. "
   ]
  },
  {
   "cell_type": "code",
   "execution_count": 17,
   "id": "incomplete-winning",
   "metadata": {},
   "outputs": [
    {
     "data": {
      "text/plain": [
       "#'groud-up.ch6/x"
      ]
     },
     "execution_count": 17,
     "metadata": {},
     "output_type": "execute_result"
    }
   ],
   "source": [
    "(def x (future (prn \"hi\") (+ 1 2)))"
   ]
  },
  {
   "cell_type": "code",
   "execution_count": 18,
   "id": "competitive-consumption",
   "metadata": {},
   "outputs": [
    {
     "data": {
      "text/plain": [
       "#future[{:status :ready, :val 3} 0x4e263805]"
      ]
     },
     "execution_count": 18,
     "metadata": {},
     "output_type": "execute_result"
    }
   ],
   "source": [
    "x"
   ]
  },
  {
   "cell_type": "code",
   "execution_count": 19,
   "id": "considered-arbor",
   "metadata": {},
   "outputs": [
    {
     "data": {
      "text/plain": [
       "3"
      ]
     },
     "execution_count": 19,
     "metadata": {},
     "output_type": "execute_result"
    }
   ],
   "source": [
    "(deref x)"
   ]
  },
  {
   "cell_type": "markdown",
   "id": "beautiful-campbell",
   "metadata": {},
   "source": [
    "- `\"hi\"` is printed right away because futures are evaluated in a new thread.\n",
    "- On multicore computers, two threads can run in parallel, on different cores at the same time. \n",
    "- When there are more threads than cores, the cores trade off running different threads. \n",
    "- Both parallel and non-parallel evaluation of threads are concurrent because expressions from different threads can be evaluated out of order"
   ]
  },
  {
   "cell_type": "code",
   "execution_count": 20,
   "id": "communist-grace",
   "metadata": {},
   "outputs": [
    {
     "name": "stdout",
     "output_type": "stream",
     "text": [
      "0\n",
      "1\n",
      "2\n",
      "3\n",
      "4\n"
     ]
    },
    {
     "data": {
      "text/plain": [
       "nil"
      ]
     },
     "execution_count": 20,
     "metadata": {},
     "output_type": "execute_result"
    }
   ],
   "source": [
    ";; repeatedly executes body (presumably for side-effects)\n",
    "(dotimes [i 5] (prn i))"
   ]
  },
  {
   "cell_type": "code",
   "execution_count": 21,
   "id": "framed-banner",
   "metadata": {},
   "outputs": [
    {
     "name": "stdout",
     "output_type": "stream",
     "text": [
      "01\n",
      "\n",
      "2\n",
      "4"
     ]
    },
    {
     "data": {
      "text/plain": [
       "nil"
      ]
     },
     "execution_count": 21,
     "metadata": {},
     "output_type": "execute_result"
    }
   ],
   "source": [
    ";; we use future to run the evaluations in parallel\n",
    "(dotimes [i 5] (future (prn i)))"
   ]
  },
  {
   "cell_type": "markdown",
   "id": "removed-marijuana",
   "metadata": {},
   "source": [
    "- There are techniques to control this concurrent execution so that things happen in some well-defined sequence, like agents and locks\n",
    "- just like delays, we can deref a future as many times as we want, and the expressions are only evaluated once"
   ]
  },
  {
   "cell_type": "code",
   "execution_count": 22,
   "id": "useful-weather",
   "metadata": {},
   "outputs": [
    {
     "name": "stdout",
     "output_type": "stream",
     "text": [
      "\"hi\"\n"
     ]
    },
    {
     "data": {
      "text/plain": [
       "#'groud-up.ch6/x"
      ]
     },
     "execution_count": 22,
     "metadata": {},
     "output_type": "execute_result"
    }
   ],
   "source": [
    "(def x (future (prn \"hi\") (+ 1 2)))"
   ]
  },
  {
   "cell_type": "code",
   "execution_count": 23,
   "id": "reasonable-invasion",
   "metadata": {},
   "outputs": [
    {
     "data": {
      "text/plain": [
       "3"
      ]
     },
     "execution_count": 23,
     "metadata": {},
     "output_type": "execute_result"
    }
   ],
   "source": [
    "@x"
   ]
  },
  {
   "cell_type": "code",
   "execution_count": 24,
   "id": "fresh-perth",
   "metadata": {},
   "outputs": [
    {
     "data": {
      "text/plain": [
       "3"
      ]
     },
     "execution_count": 24,
     "metadata": {},
     "output_type": "execute_result"
    }
   ],
   "source": [
    "@x"
   ]
  },
  {
   "cell_type": "markdown",
   "id": "assigned-advertiser",
   "metadata": {},
   "source": [
    "futures are the most generic parallel construct in Clojure, you can use futures to\n",
    "- do CPU-intensive computation faster\n",
    "- wait for multiple network requests to complete at once\n",
    "- run housekeeping code periodically"
   ]
  },
  {
   "cell_type": "markdown",
   "id": "apparent-isolation",
   "metadata": {},
   "source": [
    "### Promises\n",
    "we want to defer something we don't even have yet...."
   ]
  },
  {
   "cell_type": "code",
   "execution_count": 25,
   "id": "pretty-unknown",
   "metadata": {},
   "outputs": [
    {
     "data": {
      "text/plain": [
       "#'groud-up.ch6/box"
      ]
     },
     "execution_count": 25,
     "metadata": {},
     "output_type": "execute_result"
    }
   ],
   "source": [
    "(def box (promise))"
   ]
  },
  {
   "cell_type": "code",
   "execution_count": 26,
   "id": "surprised-cyprus",
   "metadata": {},
   "outputs": [
    {
     "name": "stderr",
     "output_type": "stream",
     "text": [
      "*Interrupted*\n"
     ]
    },
    {
     "ename": "interrupted",
     "evalue": "",
     "output_type": "error",
     "traceback": [
      "(no stacktrace)"
     ]
    }
   ],
   "source": [
    "@box"
   ]
  },
  {
   "cell_type": "code",
   "execution_count": 27,
   "id": "desirable-rochester",
   "metadata": {},
   "outputs": [
    {
     "data": {
      "text/plain": [
       "#promise[{:status :ready, :val :live-scorpions!} 0x7585fe6b]"
      ]
     },
     "execution_count": 27,
     "metadata": {},
     "output_type": "execute_result"
    }
   ],
   "source": [
    "(deliver box :live-scorpions!)"
   ]
  },
  {
   "cell_type": "code",
   "execution_count": 28,
   "id": "distinct-beginning",
   "metadata": {},
   "outputs": [
    {
     "data": {
      "text/plain": [
       ":live-scorpions!"
      ]
     },
     "execution_count": 28,
     "metadata": {},
     "output_type": "execute_result"
    }
   ],
   "source": [
    "@box"
   ]
  },
  {
   "cell_type": "code",
   "execution_count": 29,
   "id": "boring-couple",
   "metadata": {},
   "outputs": [
    {
     "data": {
      "text/plain": [
       "nil"
      ]
     },
     "execution_count": 29,
     "metadata": {},
     "output_type": "execute_result"
    }
   ],
   "source": [
    "(deliver box :puppy)"
   ]
  },
  {
   "cell_type": "code",
   "execution_count": 30,
   "id": "proof-fault",
   "metadata": {},
   "outputs": [
    {
     "data": {
      "text/plain": [
       ":live-scorpions!"
      ]
     },
     "execution_count": 30,
     "metadata": {},
     "output_type": "execute_result"
    }
   ],
   "source": [
    "@box"
   ]
  },
  {
   "cell_type": "markdown",
   "id": "signed-flour",
   "metadata": {},
   "source": [
    "- Like delays and futures, once evaluated, promise always refers to the same value\n",
    "- This is a simple identity type: we can set it to a value once and read it as many times as we want\n",
    "- `Promise` is also a concurrency primitive: it guarantees that any attempt to ead the value will wait until the value has been written. \n",
    "- We can use promises to synchronize a program which is being evaluated concurrently"
   ]
  },
  {
   "cell_type": "code",
   "execution_count": 31,
   "id": "robust-wages",
   "metadata": {},
   "outputs": [
    {
     "data": {
      "text/plain": [
       "#'groud-up.ch6/card"
      ]
     },
     "execution_count": 31,
     "metadata": {},
     "output_type": "execute_result"
    }
   ],
   "source": [
    "(def card (promise))"
   ]
  },
  {
   "cell_type": "code",
   "execution_count": 32,
   "id": "french-clerk",
   "metadata": {},
   "outputs": [
    {
     "data": {
      "text/plain": [
       "#'groud-up.ch6/dealer"
      ]
     },
     "execution_count": 32,
     "metadata": {},
     "output_type": "execute_result"
    }
   ],
   "source": [
    "(def dealer (future\n",
    "                (Thread/sleep 5000)\n",
    "                (deliver card [(inc (rand-int 13))\n",
    "                               (rand-nth [:clubs :spades :hearts :diamonds])])))"
   ]
  },
  {
   "cell_type": "code",
   "execution_count": 33,
   "id": "crude-column",
   "metadata": {},
   "outputs": [
    {
     "data": {
      "text/plain": [
       "[4 :clubs]"
      ]
     },
     "execution_count": 33,
     "metadata": {},
     "output_type": "execute_result"
    }
   ],
   "source": [
    "@card"
   ]
  },
  {
   "cell_type": "markdown",
   "id": "cardiovascular-syracuse",
   "metadata": {},
   "source": [
    "- where delays are lazy, and futures are parallel, promises are concurrent without specifying how the evaluation occurs. \n",
    "- think of both delays and futures as being built atop promises, in a way"
   ]
  },
  {
   "cell_type": "markdown",
   "id": "aware-bronze",
   "metadata": {},
   "source": [
    "### Vars\n",
    "refer to different values at different points in time"
   ]
  },
  {
   "cell_type": "code",
   "execution_count": 34,
   "id": "similar-massage",
   "metadata": {},
   "outputs": [
    {
     "data": {
      "text/plain": [
       "#'groud-up.ch6/x"
      ]
     },
     "execution_count": 34,
     "metadata": {},
     "output_type": "execute_result"
    }
   ],
   "source": [
    "(def x :mouse)"
   ]
  },
  {
   "cell_type": "code",
   "execution_count": 35,
   "id": "continuing-bangkok",
   "metadata": {},
   "outputs": [
    {
     "data": {
      "text/plain": [
       "#'groud-up.ch6/box"
      ]
     },
     "execution_count": 35,
     "metadata": {},
     "output_type": "execute_result"
    }
   ],
   "source": [
    "(def box (fn [] x))"
   ]
  },
  {
   "cell_type": "code",
   "execution_count": 36,
   "id": "ecological-given",
   "metadata": {},
   "outputs": [
    {
     "data": {
      "text/plain": [
       ":mouse"
      ]
     },
     "execution_count": 36,
     "metadata": {},
     "output_type": "execute_result"
    }
   ],
   "source": [
    "(box)"
   ]
  },
  {
   "cell_type": "code",
   "execution_count": 37,
   "id": "necessary-soundtrack",
   "metadata": {},
   "outputs": [
    {
     "data": {
      "text/plain": [
       "#'groud-up.ch6/x"
      ]
     },
     "execution_count": 37,
     "metadata": {},
     "output_type": "execute_result"
    }
   ],
   "source": [
    "(def x :cat)"
   ]
  },
  {
   "cell_type": "code",
   "execution_count": 38,
   "id": "direct-optimization",
   "metadata": {},
   "outputs": [
    {
     "data": {
      "text/plain": [
       ":cat"
      ]
     },
     "execution_count": 38,
     "metadata": {},
     "output_type": "execute_result"
    }
   ],
   "source": [
    "(box)"
   ]
  },
  {
   "cell_type": "markdown",
   "id": "settled-ecuador",
   "metadata": {},
   "source": [
    "- the `box` function closed over `x`, but calling `(box)` returned different results depending on the current value of `x`. \n",
    "- Even though the var `x` remained unchanged throughout this example, the value associated with that var did change!\n",
    "- A reference which is the same everywhere is called a _global variable_ or simply a _global_\n",
    "- with a __dynamics var__, we can override their value only within the scope of a particular function call, and nowhere else"
   ]
  },
  {
   "cell_type": "code",
   "execution_count": 39,
   "id": "classical-briefing",
   "metadata": {},
   "outputs": [
    {
     "data": {
      "text/plain": [
       "#'groud-up.ch6/*board*"
      ]
     },
     "execution_count": 39,
     "metadata": {},
     "output_type": "execute_result"
    }
   ],
   "source": [
    "(def ^:dynamic *board* :maple) ;; by convention, we use asterisks to define dynamic vars"
   ]
  },
  {
   "cell_type": "code",
   "execution_count": 40,
   "id": "elementary-queen",
   "metadata": {},
   "outputs": [
    {
     "data": {
      "text/plain": [
       "#'groud-up.ch6/cut"
      ]
     },
     "execution_count": 40,
     "metadata": {},
     "output_type": "execute_result"
    }
   ],
   "source": [
    "(defn cut [] (prn \"sawing through\" *board*))"
   ]
  },
  {
   "cell_type": "markdown",
   "id": "cubic-kitty",
   "metadata": {},
   "source": [
    "- `cut` closes over the var `*board*`, but not the value!\n",
    "- every time the function is invoked, it looks up the _current_ value of `*board*`"
   ]
  },
  {
   "cell_type": "code",
   "execution_count": 41,
   "id": "indoor-angle",
   "metadata": {},
   "outputs": [
    {
     "name": "stdout",
     "output_type": "stream",
     "text": [
      "\"sawing through\" :maple\n"
     ]
    },
    {
     "data": {
      "text/plain": [
       "nil"
      ]
     },
     "execution_count": 41,
     "metadata": {},
     "output_type": "execute_result"
    }
   ],
   "source": [
    "(cut)"
   ]
  },
  {
   "cell_type": "code",
   "execution_count": 42,
   "id": "coral-apparatus",
   "metadata": {},
   "outputs": [
    {
     "name": "stderr",
     "output_type": "stream",
     "text": [
      "Warning: *board* not declared dynamic and thus is not dynamically rebindable, but its name suggests otherwise. Please either indicate ^:dynamic *board* or change the name. (NO_SOURCE_PATH:1)\n"
     ]
    },
    {
     "data": {
      "text/plain": [
       "#'groud-up.ch6/*board*"
      ]
     },
     "execution_count": 42,
     "metadata": {},
     "output_type": "execute_result"
    }
   ],
   "source": [
    "(def *board* \"can I do this?\")"
   ]
  },
  {
   "cell_type": "code",
   "execution_count": 43,
   "id": "latin-boston",
   "metadata": {},
   "outputs": [
    {
     "name": "stdout",
     "output_type": "stream",
     "text": [
      "\"sawing through\" \"can I do this?\"\n"
     ]
    },
    {
     "data": {
      "text/plain": [
       "nil"
      ]
     },
     "execution_count": 43,
     "metadata": {},
     "output_type": "execute_result"
    }
   ],
   "source": [
    "(cut)"
   ]
  },
  {
   "cell_type": "code",
   "execution_count": 44,
   "id": "stunning-confirmation",
   "metadata": {},
   "outputs": [
    {
     "name": "stderr",
     "output_type": "stream",
     "text": [
      "Execution error (IllegalStateException) at groud-up.ch6/eval4175 (REPL:1).\n",
      "Can't dynamically bind non-dynamic var: groud-up.ch6/*board*\n"
     ]
    },
    {
     "ename": "class java.lang.IllegalStateException",
     "evalue": "",
     "output_type": "error",
     "traceback": [
      "   Var.java:   325 clojure.lang.Var/pushThreadBindings",
      "   core.clj:  1929 clojure.core$push_thread_bindings/invokeStatic",
      "   core.clj:  1913 clojure.core$push_thread_bindings/invoke",
      "   core.clj:  3214 clojure.core$eval/invokeStatic",
      "   core.clj:  3210 clojure.core$eval/invoke",
      "   main.clj:   437 clojure.main$repl$read_eval_print__9086$fn__9089/invoke",
      "   main.clj:   458 clojure.main$repl$fn__9095/invoke",
      "   main.clj:   368 clojure.main$repl/doInvoke",
      "RestFn.java:  1523 clojure.lang.RestFn/invoke",
      "   AFn.java:    22 clojure.lang.AFn/run",
      "   AFn.java:    22 clojure.lang.AFn/run",
      "Thread.java:   745 java.lang.Thread/run"
     ]
    }
   ],
   "source": [
    "(binding [*board* :cedar] (cut))"
   ]
  },
  {
   "cell_type": "code",
   "execution_count": 45,
   "id": "handy-brand",
   "metadata": {},
   "outputs": [
    {
     "data": {
      "text/plain": [
       "#'groud-up.ch6/*board*"
      ]
     },
     "execution_count": 45,
     "metadata": {},
     "output_type": "execute_result"
    }
   ],
   "source": [
    ";; let's start over again\n",
    "(def ^:dynamic *board* :maple)"
   ]
  },
  {
   "cell_type": "code",
   "execution_count": 46,
   "id": "quarterly-expense",
   "metadata": {},
   "outputs": [
    {
     "name": "stdout",
     "output_type": "stream",
     "text": [
      "\"sawing through\" :maple\n"
     ]
    },
    {
     "data": {
      "text/plain": [
       "nil"
      ]
     },
     "execution_count": 46,
     "metadata": {},
     "output_type": "execute_result"
    }
   ],
   "source": [
    "(cut)"
   ]
  },
  {
   "cell_type": "code",
   "execution_count": 47,
   "id": "mexican-concrete",
   "metadata": {},
   "outputs": [
    {
     "name": "stdout",
     "output_type": "stream",
     "text": [
      "\"sawing through\" :cedar\n"
     ]
    },
    {
     "data": {
      "text/plain": [
       "nil"
      ]
     },
     "execution_count": 47,
     "metadata": {},
     "output_type": "execute_result"
    }
   ],
   "source": [
    "(binding [*board* :cedar] (cut))"
   ]
  },
  {
   "cell_type": "code",
   "execution_count": 48,
   "id": "several-trauma",
   "metadata": {},
   "outputs": [
    {
     "name": "stdout",
     "output_type": "stream",
     "text": [
      "\"sawing through\" :maple\n"
     ]
    },
    {
     "data": {
      "text/plain": [
       "nil"
      ]
     },
     "execution_count": 48,
     "metadata": {},
     "output_type": "execute_result"
    }
   ],
   "source": [
    "(cut)"
   ]
  },
  {
   "cell_type": "markdown",
   "id": "macro-ethnic",
   "metadata": {},
   "source": [
    "- `let` and `fn` create immutable lexical scope, but `binding` creates _dynamics scope_\n",
    "- Lexical scope is constrained to the literal text of the `fn` or `let` expression\n",
    "- Dynamics scope propagates through function calls!\n",
    "- This safety property holds even when the program is executed in multiple threads: only the thread which evaluated the binding expression uses that value (specified in binding). Other threads are unaffected. \n",
    "\n",
    "- In real programs, you should only mutate vars sparingly. They are intended for naming functions, important bits of global data, and for tracking the environment of a program.\n",
    "- Don't use vars for mutable program state"
   ]
  },
  {
   "cell_type": "markdown",
   "id": "naked-andrew",
   "metadata": {},
   "source": [
    "### Atoms"
   ]
  },
  {
   "cell_type": "code",
   "execution_count": 49,
   "id": "outdoor-quantity",
   "metadata": {},
   "outputs": [
    {
     "data": {
      "text/plain": [
       "#{0 7 1 4 6 3 2 9 5 8}"
      ]
     },
     "execution_count": 49,
     "metadata": {},
     "output_type": "execute_result"
    }
   ],
   "source": [
    ";; building up a set of integers\n",
    "(def xs #{})\n",
    "(dotimes [i 10] (def xs (conj xs i)))\n",
    "xs"
   ]
  },
  {
   "cell_type": "markdown",
   "id": "dental-local",
   "metadata": {},
   "source": [
    "- Vars can be read, set and dynamically bound, but they aren't easy to evolve. \n",
    "- In the above example, we use the common paradigm as in imperative languages, where all variables are mutable by default\n",
    "- However, the program is not __thread safe__"
   ]
  },
  {
   "cell_type": "code",
   "execution_count": 50,
   "id": "continued-airplane",
   "metadata": {},
   "outputs": [
    {
     "data": {
      "text/plain": [
       "#{0 7 1 4 6 3 2 9 5 8}"
      ]
     },
     "execution_count": 50,
     "metadata": {},
     "output_type": "execute_result"
    }
   ],
   "source": [
    "(def xs #{})\n",
    "(dotimes [i 10] (future (def xs (conj xs i))))\n",
    "xs"
   ]
  },
  {
   "cell_type": "markdown",
   "id": "advisory-amplifier",
   "metadata": {},
   "source": [
    "- The read-modify-update process assumed that all updates would be consecutive - not concurrent\n",
    "- When we ask the program to do two read-modify-updates at the same time, updates were lost\n",
    "- We need an identity which supports safe transformation from one state to another - __atoms__!"
   ]
  },
  {
   "cell_type": "code",
   "execution_count": 51,
   "id": "friendly-sampling",
   "metadata": {},
   "outputs": [
    {
     "data": {
      "text/plain": [
       "#'groud-up.ch6/xs"
      ]
     },
     "execution_count": 51,
     "metadata": {},
     "output_type": "execute_result"
    }
   ],
   "source": [
    "(def xs (atom #{}))"
   ]
  },
  {
   "cell_type": "code",
   "execution_count": 52,
   "id": "exempt-seminar",
   "metadata": {},
   "outputs": [
    {
     "data": {
      "text/plain": [
       "#atom[#{} 0x293d3d5]"
      ]
     },
     "execution_count": 52,
     "metadata": {},
     "output_type": "execute_result"
    }
   ],
   "source": [
    "xs"
   ]
  },
  {
   "cell_type": "markdown",
   "id": "certain-somewhere",
   "metadata": {},
   "source": [
    "- Unlike vars, atoms are not transparent.\n",
    "- When evaluated, they don't return their underlying values, but notice that when printed, the current value is hiding inside. \n",
    "- To get the current value out of an atom, we have to use `deref` or `@`"
   ]
  },
  {
   "cell_type": "code",
   "execution_count": 53,
   "id": "dangerous-moldova",
   "metadata": {},
   "outputs": [
    {
     "data": {
      "text/plain": [
       "#{}"
      ]
     },
     "execution_count": 53,
     "metadata": {},
     "output_type": "execute_result"
    }
   ],
   "source": [
    "@xs"
   ]
  },
  {
   "cell_type": "markdown",
   "id": "dramatic-genome",
   "metadata": {},
   "source": [
    "- Like vars, atoms can be set to a particular value, but instead of `def`, we use `reset!`\n",
    "- The exclamation point (called a _bang_) is there to remind us that this function modifies the state of its argument - in this case, changing the value of the atom."
   ]
  },
  {
   "cell_type": "code",
   "execution_count": 54,
   "id": "massive-think",
   "metadata": {},
   "outputs": [
    {
     "data": {
      "text/plain": [
       ":foo"
      ]
     },
     "execution_count": 54,
     "metadata": {},
     "output_type": "execute_result"
    }
   ],
   "source": [
    "(reset! xs :foo)"
   ]
  },
  {
   "cell_type": "code",
   "execution_count": 55,
   "id": "collect-brooklyn",
   "metadata": {},
   "outputs": [
    {
     "data": {
      "text/plain": [
       "#atom[:foo 0x293d3d5]"
      ]
     },
     "execution_count": 55,
     "metadata": {},
     "output_type": "execute_result"
    }
   ],
   "source": [
    "xs"
   ]
  },
  {
   "cell_type": "code",
   "execution_count": 56,
   "id": "verified-leone",
   "metadata": {},
   "outputs": [
    {
     "data": {
      "text/plain": [
       ":foo"
      ]
     },
     "execution_count": 56,
     "metadata": {},
     "output_type": "execute_result"
    }
   ],
   "source": [
    "@xs"
   ]
  },
  {
   "cell_type": "markdown",
   "id": "explicit-opera",
   "metadata": {},
   "source": [
    "- Unlike vars, atoms can be safely updated using `swap!`\n",
    "- `swap!` uses a pure function which takes the current value of the atom and returns a **new** value. \n",
    "- Under the hood, Clojure does some tricks to make sure these updates are **linearizable**\n",
    "    - All updates with `swap!` complete in what appears to be in a single consecutive order\n",
    "    - The effect of a swap! never takes place before calling `swap!`\n",
    "    - The effect of a swap! is visible to everyone once `swap!` returns\n",
    "   \n",
    "hmmmm.... what do these actually mean?"
   ]
  },
  {
   "cell_type": "code",
   "execution_count": 57,
   "id": "moderate-protein",
   "metadata": {},
   "outputs": [
    {
     "data": {
      "text/plain": [
       "#'groud-up.ch6/x"
      ]
     },
     "execution_count": 57,
     "metadata": {},
     "output_type": "execute_result"
    }
   ],
   "source": [
    "(def x (atom 0))"
   ]
  },
  {
   "cell_type": "code",
   "execution_count": 58,
   "id": "electoral-sociology",
   "metadata": {},
   "outputs": [
    {
     "data": {
      "text/plain": [
       "1"
      ]
     },
     "execution_count": 58,
     "metadata": {},
     "output_type": "execute_result"
    }
   ],
   "source": [
    "(swap! x inc) ;; swap reads value of 0, increase to 1 and writes 1 back to the atom"
   ]
  },
  {
   "cell_type": "code",
   "execution_count": 59,
   "id": "shared-bernard",
   "metadata": {},
   "outputs": [
    {
     "data": {
      "text/plain": [
       "1"
      ]
     },
     "execution_count": 59,
     "metadata": {},
     "output_type": "execute_result"
    }
   ],
   "source": [
    "@x"
   ]
  },
  {
   "cell_type": "code",
   "execution_count": 60,
   "id": "constant-latest",
   "metadata": {},
   "outputs": [
    {
     "data": {
      "text/plain": [
       "2"
      ]
     },
     "execution_count": 60,
     "metadata": {},
     "output_type": "execute_result"
    }
   ],
   "source": [
    "(swap! x inc) ;; each call to swap! returns the value that was just written"
   ]
  },
  {
   "cell_type": "code",
   "execution_count": 61,
   "id": "limited-nelson",
   "metadata": {},
   "outputs": [
    {
     "data": {
      "text/plain": [
       "2"
      ]
     },
     "execution_count": 61,
     "metadata": {},
     "output_type": "execute_result"
    }
   ],
   "source": [
    "@x"
   ]
  },
  {
   "cell_type": "code",
   "execution_count": 62,
   "id": "coastal-aspect",
   "metadata": {},
   "outputs": [
    {
     "data": {
      "text/plain": [
       "13"
      ]
     },
     "execution_count": 62,
     "metadata": {},
     "output_type": "execute_result"
    }
   ],
   "source": [
    ";; additional arguments will be placed at the end\n",
    "(swap! x + 5 6) ;; (+ x 5 6)"
   ]
  },
  {
   "cell_type": "code",
   "execution_count": 63,
   "id": "copyrighted-favor",
   "metadata": {},
   "outputs": [
    {
     "data": {
      "text/plain": [
       "#atom[#{0 7 1 4 6 3 2 9 5 8} 0x1887785d]"
      ]
     },
     "execution_count": 63,
     "metadata": {},
     "output_type": "execute_result"
    }
   ],
   "source": [
    "(def xs (atom #{}))\n",
    "(dotimes [i 10] (future (swap! xs conj i)))\n",
    "xs"
   ]
  },
  {
   "cell_type": "code",
   "execution_count": 64,
   "id": "unlike-storage",
   "metadata": {},
   "outputs": [
    {
     "data": {
      "text/plain": [
       "#{0 7 1 4 6 3 2 9 5 8}"
      ]
     },
     "execution_count": 64,
     "metadata": {},
     "output_type": "execute_result"
    }
   ],
   "source": [
    "@xs ;; the order of the set is arbitrary, the key is that we didn't miss any number"
   ]
  },
  {
   "cell_type": "markdown",
   "id": "formed-happiness",
   "metadata": {},
   "source": [
    "- the function we use to update an atom must be __pure__ - must not mutate any state.\n",
    "- Clojure's reliance on immutable datatypes, immutable variables and pure functions enables this approach to linearizable mutability. \n",
    "- Reach for an atom whenever you want to update a single thing over time"
   ]
  },
  {
   "cell_type": "markdown",
   "id": "fixed-mexico",
   "metadata": {},
   "source": [
    "### Ref\n",
    "- atoms are only linearizable individually.\n",
    "- for multi-identity updates, we need a stronger safety property than single-atom linearizability - __serializability__ - a global order. Enter `ref`"
   ]
  },
  {
   "cell_type": "code",
   "execution_count": 65,
   "id": "extraordinary-tolerance",
   "metadata": {},
   "outputs": [
    {
     "data": {
      "text/plain": [
       "#'groud-up.ch6/x"
      ]
     },
     "execution_count": 65,
     "metadata": {},
     "output_type": "execute_result"
    }
   ],
   "source": [
    "(def x (ref 0))"
   ]
  },
  {
   "cell_type": "code",
   "execution_count": 66,
   "id": "proved-swing",
   "metadata": {},
   "outputs": [
    {
     "data": {
      "text/plain": [
       "0"
      ]
     },
     "execution_count": 66,
     "metadata": {},
     "output_type": "execute_result"
    }
   ],
   "source": [
    "@x"
   ]
  },
  {
   "cell_type": "markdown",
   "id": "speaking-schema",
   "metadata": {},
   "source": [
    "- refs are updated in groups using `dosync` transactions \n",
    "- we can update refs using `alter` instead of `swap!`\n",
    "- we can set refs to new values using `ref-set`. instead of `reset!`"
   ]
  },
  {
   "cell_type": "code",
   "execution_count": 67,
   "id": "favorite-agency",
   "metadata": {},
   "outputs": [
    {
     "data": {
      "text/plain": [
       "2"
      ]
     },
     "execution_count": 67,
     "metadata": {},
     "output_type": "execute_result"
    }
   ],
   "source": [
    "(def x (ref 0))\n",
    "(def y (ref 0))\n",
    "(dosync\n",
    " (ref-set x 1)\n",
    " (ref-set y 2))"
   ]
  },
  {
   "cell_type": "code",
   "execution_count": 68,
   "id": "satisfactory-campbell",
   "metadata": {},
   "outputs": [
    {
     "data": {
      "text/plain": [
       "[1 2]"
      ]
     },
     "execution_count": 68,
     "metadata": {},
     "output_type": "execute_result"
    }
   ],
   "source": [
    "[@x @y]"
   ]
  },
  {
   "cell_type": "code",
   "execution_count": 69,
   "id": "caring-orlando",
   "metadata": {},
   "outputs": [
    {
     "data": {
      "text/plain": [
       "1"
      ]
     },
     "execution_count": 69,
     "metadata": {},
     "output_type": "execute_result"
    }
   ],
   "source": [
    "(def x (ref 0))\n",
    "(def y (ref 0))\n",
    "(dosync\n",
    " (alter x + 2)\n",
    " (alter y inc))"
   ]
  },
  {
   "cell_type": "code",
   "execution_count": 70,
   "id": "unknown-chess",
   "metadata": {},
   "outputs": [
    {
     "data": {
      "text/plain": [
       "[2 1]"
      ]
     },
     "execution_count": 70,
     "metadata": {},
     "output_type": "execute_result"
    }
   ],
   "source": [
    "[@x @y]"
   ]
  },
  {
   "cell_type": "markdown",
   "id": "speaking-gregory",
   "metadata": {},
   "source": [
    "- All `alter` operations within a `dosync` take place atomically, their effects are never interleaved with other transactions\n",
    "- If it is ok for an operation to take place out of order, you can use `commute` instead of `alter` for a performance boost\n",
    "- maybe I need to refer to Clojure for the brave and true for a nice example of `commute`"
   ]
  }
 ],
 "metadata": {
  "kernelspec": {
   "display_name": "Clojure (clojupyter=0.3.2=1)",
   "language": "clojure",
   "name": "conda-clojupyter"
  },
  "language_info": {
   "file_extension": ".clj",
   "mimetype": "text/x-clojure",
   "name": "clojure",
   "version": "1.10.1"
  }
 },
 "nbformat": 4,
 "nbformat_minor": 5
}
