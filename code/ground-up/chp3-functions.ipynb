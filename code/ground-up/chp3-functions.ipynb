{
 "cells": [
  {
   "cell_type": "markdown",
   "id": "toxic-fourth",
   "metadata": {},
   "source": [
    "Take-aways\n",
    "- `let` associates names with values in a particular expression\n",
    "- Vars allow for mutable bindings\n",
    "- Clojure verbs are functions, which express the general shape of an expression but with certain values unbound. Invoking a function binds those variables to specific values.\n",
    "- Introspect Clojure functions with `doc` and `source`"
   ]
  },
  {
   "cell_type": "code",
   "execution_count": 1,
   "id": "sound-formula",
   "metadata": {},
   "outputs": [
    {
     "data": {
      "text/plain": [
       "nil"
      ]
     },
     "execution_count": 1,
     "metadata": {},
     "output_type": "execute_result"
    }
   ],
   "source": [
    "(ns groudup.chp3)"
   ]
  },
  {
   "cell_type": "markdown",
   "id": "vocal-indonesia",
   "metadata": {},
   "source": [
    "### Let bindings"
   ]
  },
  {
   "cell_type": "code",
   "execution_count": 2,
   "id": "applied-reading",
   "metadata": {},
   "outputs": [
    {
     "data": {
      "text/plain": [
       "#function[clojure.core/+]"
      ]
     },
     "execution_count": 2,
     "metadata": {},
     "output_type": "execute_result"
    }
   ],
   "source": [
    "+"
   ]
  },
  {
   "cell_type": "code",
   "execution_count": 3,
   "id": "unique-killing",
   "metadata": {},
   "outputs": [
    {
     "name": "stderr",
     "output_type": "stream",
     "text": [
      "Syntax error compiling at (REPL:0:0).\n",
      "Unable to resolve symbol: cats in this context\n"
     ]
    },
    {
     "ename": "class clojure.lang.Compiler$CompilerException",
     "evalue": "",
     "output_type": "error",
     "traceback": [
      "  Util.java:   221 clojure.lang.Util/runtimeException",
      "   core.clj:  3214 clojure.core$eval/invokeStatic",
      "   core.clj:  3210 clojure.core$eval/invoke",
      "   main.clj:   437 clojure.main$repl$read_eval_print__9086$fn__9089/invoke",
      "   main.clj:   458 clojure.main$repl$fn__9095/invoke",
      "   main.clj:   368 clojure.main$repl/doInvoke",
      "RestFn.java:  1523 clojure.lang.RestFn/invoke",
      "   AFn.java:    22 clojure.lang.AFn/run",
      "   AFn.java:    22 clojure.lang.AFn/run",
      "Thread.java:   745 java.lang.Thread/run"
     ]
    }
   ],
   "source": [
    "cats"
   ]
  },
  {
   "cell_type": "markdown",
   "id": "affiliated-response",
   "metadata": {},
   "source": [
    "- The `let` expression first takes a vector of bindings: alternating symbols and values that those symbols are bound to, within the remainder of the expression"
   ]
  },
  {
   "cell_type": "code",
   "execution_count": 4,
   "id": "neutral-philippines",
   "metadata": {},
   "outputs": [
    {
     "data": {
      "text/plain": [
       "\"I have 5 cats.\""
      ]
     },
     "execution_count": 4,
     "metadata": {},
     "output_type": "execute_result"
    }
   ],
   "source": [
    "(let [cats 5] (str \"I have \" cats \" cats.\"))"
   ]
  },
  {
   "cell_type": "code",
   "execution_count": 5,
   "id": "first-payroll",
   "metadata": {},
   "outputs": [
    {
     "data": {
      "text/plain": [
       "3"
      ]
     },
     "execution_count": 5,
     "metadata": {},
     "output_type": "execute_result"
    }
   ],
   "source": [
    "(let [+ -] (+ 5 2))"
   ]
  },
  {
   "cell_type": "code",
   "execution_count": 6,
   "id": "forward-possibility",
   "metadata": {},
   "outputs": [
    {
     "data": {
      "text/plain": [
       "7"
      ]
     },
     "execution_count": 6,
     "metadata": {},
     "output_type": "execute_result"
    }
   ],
   "source": [
    "(+ 5 2)"
   ]
  },
  {
   "cell_type": "code",
   "execution_count": 7,
   "id": "tamil-covering",
   "metadata": {},
   "outputs": [
    {
     "data": {
      "text/plain": [
       "\"joseph has 186 cats!\""
      ]
     },
     "execution_count": 7,
     "metadata": {},
     "output_type": "execute_result"
    }
   ],
   "source": [
    "(let [person \"joseph\"\n",
    "      num-cats 186]\n",
    "    (str person \" has \" num-cats \" cats!\"))"
   ]
  },
  {
   "cell_type": "code",
   "execution_count": 8,
   "id": "reported-attraction",
   "metadata": {},
   "outputs": [
    {
     "data": {
      "text/plain": [
       "\"12 legs all together\""
      ]
     },
     "execution_count": 8,
     "metadata": {},
     "output_type": "execute_result"
    }
   ],
   "source": [
    ";; later bindings can use previous bindings\n",
    "(let [cats 3\n",
    "      legs (* 4 cats)]\n",
    "    (str legs \" legs all together\"))"
   ]
  },
  {
   "cell_type": "markdown",
   "id": "unlike-siemens",
   "metadata": {},
   "source": [
    "### Functions\n",
    "- `let` is evaluated immediately, whereas `fn` is evaluated `later`, when bindings are provided. "
   ]
  },
  {
   "cell_type": "code",
   "execution_count": 9,
   "id": "voluntary-crown",
   "metadata": {},
   "outputs": [
    {
     "data": {
      "text/plain": [
       "3"
      ]
     },
     "execution_count": 9,
     "metadata": {},
     "output_type": "execute_result"
    }
   ],
   "source": [
    "((fn [x] (+ x 1)) 2)"
   ]
  },
  {
   "cell_type": "markdown",
   "id": "miniature-compound",
   "metadata": {},
   "source": [
    "### Vars\n",
    "- Are Vars mutable?\n",
    "- Vars are defined by `def`. \n",
    "- Vars, like symbols, are references to other values.\n",
    "- When evaluated, a symbol pointing to a var is replaced by the var's corresponding value. "
   ]
  },
  {
   "cell_type": "code",
   "execution_count": 10,
   "id": "yellow-charm",
   "metadata": {},
   "outputs": [
    {
     "data": {
      "text/plain": [
       "#'groudup.chp3/cats"
      ]
     },
     "execution_count": 10,
     "metadata": {},
     "output_type": "execute_result"
    }
   ],
   "source": [
    "(def cats 5)"
   ]
  },
  {
   "cell_type": "code",
   "execution_count": 11,
   "id": "victorian-tobacco",
   "metadata": {},
   "outputs": [
    {
     "data": {
      "text/plain": [
       "clojure.lang.Var"
      ]
     },
     "execution_count": 11,
     "metadata": {},
     "output_type": "execute_result"
    }
   ],
   "source": [
    "(type #'groudup.chp3/cats)"
   ]
  },
  {
   "cell_type": "code",
   "execution_count": 12,
   "id": "catholic-coordination",
   "metadata": {},
   "outputs": [
    {
     "data": {
      "text/plain": [
       "5"
      ]
     },
     "execution_count": 12,
     "metadata": {},
     "output_type": "execute_result"
    }
   ],
   "source": [
    "groudup.chp3/cats ;; evaluating a symbol pointing to a var"
   ]
  },
  {
   "cell_type": "code",
   "execution_count": 13,
   "id": "superb-variation",
   "metadata": {},
   "outputs": [
    {
     "data": {
      "text/plain": [
       "5"
      ]
     },
     "execution_count": 13,
     "metadata": {},
     "output_type": "execute_result"
    }
   ],
   "source": [
    ";; `def` _binds_ the symbol and its globally qualified equivalent to that var\n",
    "cats"
   ]
  },
  {
   "cell_type": "markdown",
   "id": "trained-omega",
   "metadata": {},
   "source": [
    "- the symbol `inc` points to the var `#'clojure.core/inc`, which in turn points to the function `#function[clojure.core/inc]`"
   ]
  },
  {
   "cell_type": "code",
   "execution_count": 14,
   "id": "copyrighted-yeast",
   "metadata": {},
   "outputs": [
    {
     "data": {
      "text/plain": [
       "inc"
      ]
     },
     "execution_count": 14,
     "metadata": {},
     "output_type": "execute_result"
    }
   ],
   "source": [
    "'inc ;; the symbol"
   ]
  },
  {
   "cell_type": "code",
   "execution_count": 15,
   "id": "spiritual-china",
   "metadata": {},
   "outputs": [
    {
     "data": {
      "text/plain": [
       "#'clojure.core/inc"
      ]
     },
     "execution_count": 15,
     "metadata": {},
     "output_type": "execute_result"
    }
   ],
   "source": [
    "(resolve 'inc) ;; returns the var or Class to which a symbol will be resolved "
   ]
  },
  {
   "cell_type": "code",
   "execution_count": 16,
   "id": "convinced-slovenia",
   "metadata": {},
   "outputs": [
    {
     "data": {
      "text/plain": [
       "#function[clojure.core/inc]"
      ]
     },
     "execution_count": 16,
     "metadata": {},
     "output_type": "execute_result"
    }
   ],
   "source": [
    "(eval 'inc) ;; the value "
   ]
  },
  {
   "cell_type": "markdown",
   "id": "extensive-heaven",
   "metadata": {},
   "source": [
    "- we have two layers of indirection since unlike the symbol, we can change the meaning of a Var for everyone globally, at any time"
   ]
  },
  {
   "cell_type": "code",
   "execution_count": 17,
   "id": "surrounded-colorado",
   "metadata": {},
   "outputs": [
    {
     "data": {
      "text/plain": [
       "#'groudup.chp3/astronauts"
      ]
     },
     "execution_count": 17,
     "metadata": {},
     "output_type": "execute_result"
    }
   ],
   "source": [
    "(def astronauts [])"
   ]
  },
  {
   "cell_type": "code",
   "execution_count": 18,
   "id": "attempted-disability",
   "metadata": {},
   "outputs": [
    {
     "data": {
      "text/plain": [
       "0"
      ]
     },
     "execution_count": 18,
     "metadata": {},
     "output_type": "execute_result"
    }
   ],
   "source": [
    "(count astronauts)"
   ]
  },
  {
   "cell_type": "code",
   "execution_count": 19,
   "id": "needed-saudi",
   "metadata": {},
   "outputs": [
    {
     "data": {
      "text/plain": [
       "#'groudup.chp3/astronauts"
      ]
     },
     "execution_count": 19,
     "metadata": {},
     "output_type": "execute_result"
    }
   ],
   "source": [
    "(def astronauts [\"A\" \"B\"])"
   ]
  },
  {
   "cell_type": "code",
   "execution_count": 20,
   "id": "declared-denmark",
   "metadata": {},
   "outputs": [
    {
     "data": {
      "text/plain": [
       "2"
      ]
     },
     "execution_count": 20,
     "metadata": {},
     "output_type": "execute_result"
    }
   ],
   "source": [
    "(count astronauts)"
   ]
  },
  {
   "cell_type": "markdown",
   "id": "intimate-arbitration",
   "metadata": {},
   "source": [
    "- Good Clojurists use `def` to set up a program initially, and only change those definitions with careful thought. "
   ]
  },
  {
   "cell_type": "markdown",
   "id": "apparent-serbia",
   "metadata": {},
   "source": [
    "### Defining functions"
   ]
  },
  {
   "cell_type": "code",
   "execution_count": 21,
   "id": "unable-pantyhose",
   "metadata": {},
   "outputs": [
    {
     "data": {
      "text/plain": [
       "#'groudup.chp3/half"
      ]
     },
     "execution_count": 21,
     "metadata": {},
     "output_type": "execute_result"
    }
   ],
   "source": [
    "(defn half [number] (/ number 2))"
   ]
  },
  {
   "cell_type": "code",
   "execution_count": 22,
   "id": "complete-typing",
   "metadata": {},
   "outputs": [
    {
     "data": {
      "text/plain": [
       "5"
      ]
     },
     "execution_count": 22,
     "metadata": {},
     "output_type": "execute_result"
    }
   ],
   "source": [
    "(half 10)"
   ]
  },
  {
   "cell_type": "code",
   "execution_count": 23,
   "id": "signal-wallpaper",
   "metadata": {},
   "outputs": [
    {
     "data": {
      "text/plain": [
       "#'groudup.chp3/half"
      ]
     },
     "execution_count": 23,
     "metadata": {},
     "output_type": "execute_result"
    }
   ],
   "source": [
    ";; handle multiple arities\n",
    "(defn half\n",
    "    ([] 1/2)\n",
    "    ([x] (/ x 2)))"
   ]
  },
  {
   "cell_type": "markdown",
   "id": "useful-aerospace",
   "metadata": {},
   "source": [
    "- For a function takes any number of arguments, Clojure provides `&`, which slurps up all remaining arguments as a list"
   ]
  },
  {
   "cell_type": "code",
   "execution_count": 24,
   "id": "occupational-seafood",
   "metadata": {},
   "outputs": [
    {
     "data": {
      "text/plain": [
       "#'groudup.chp3/vargs"
      ]
     },
     "execution_count": 24,
     "metadata": {},
     "output_type": "execute_result"
    }
   ],
   "source": [
    "(defn vargs\n",
    "    [x y & more-args]\n",
    "    {:x    x\n",
    "     :y    y\n",
    "     :more more-args})"
   ]
  },
  {
   "cell_type": "code",
   "execution_count": 25,
   "id": "desperate-cleaners",
   "metadata": {},
   "outputs": [
    {
     "name": "stderr",
     "output_type": "stream",
     "text": [
      "Execution error (ArityException) at groudup.chp3/eval4137 (REPL:1).\n",
      "Wrong number of args (1) passed to: groudup.chp3/vargs\n"
     ]
    },
    {
     "ename": "class clojure.lang.ArityException",
     "evalue": "",
     "output_type": "error",
     "traceback": [
      "   AFn.java:   429 clojure.lang.AFn/throwArity",
      "RestFn.java:   412 clojure.lang.RestFn/invoke",
      "   core.clj:  3214 clojure.core$eval/invokeStatic",
      "   core.clj:  3210 clojure.core$eval/invoke",
      "   main.clj:   437 clojure.main$repl$read_eval_print__9086$fn__9089/invoke",
      "   main.clj:   458 clojure.main$repl$fn__9095/invoke",
      "   main.clj:   368 clojure.main$repl/doInvoke",
      "RestFn.java:  1523 clojure.lang.RestFn/invoke",
      "   AFn.java:    22 clojure.lang.AFn/run",
      "   AFn.java:    22 clojure.lang.AFn/run",
      "Thread.java:   745 java.lang.Thread/run"
     ]
    }
   ],
   "source": [
    "(vargs 1)"
   ]
  },
  {
   "cell_type": "code",
   "execution_count": 26,
   "id": "willing-zealand",
   "metadata": {},
   "outputs": [
    {
     "data": {
      "text/plain": [
       "{:x 1, :y 2, :more nil}"
      ]
     },
     "execution_count": 26,
     "metadata": {},
     "output_type": "execute_result"
    }
   ],
   "source": [
    "(vargs 1 2)"
   ]
  },
  {
   "cell_type": "code",
   "execution_count": 27,
   "id": "august-procedure",
   "metadata": {},
   "outputs": [
    {
     "data": {
      "text/plain": [
       "{:x 1, :y 2, :more (3)}"
      ]
     },
     "execution_count": 27,
     "metadata": {},
     "output_type": "execute_result"
    }
   ],
   "source": [
    "(vargs 1 2 3)"
   ]
  },
  {
   "cell_type": "code",
   "execution_count": 28,
   "id": "certified-thumb",
   "metadata": {},
   "outputs": [
    {
     "data": {
      "text/plain": [
       "{:x 1, :y 2, :more (3 4 5)}"
      ]
     },
     "execution_count": 28,
     "metadata": {},
     "output_type": "execute_result"
    }
   ],
   "source": [
    "(vargs 1 2 3 4 5)"
   ]
  },
  {
   "cell_type": "code",
   "execution_count": 29,
   "id": "declared-addiction",
   "metadata": {},
   "outputs": [
    {
     "data": {
      "text/plain": [
       "#'groudup.chp3/dummy"
      ]
     },
     "execution_count": 29,
     "metadata": {},
     "output_type": "execute_result"
    }
   ],
   "source": [
    "(defn dummy\n",
    "    \"a dummy function to test docstrings\"\n",
    "    [x]\n",
    "    \"Return some strings...\")"
   ]
  },
  {
   "cell_type": "code",
   "execution_count": 30,
   "id": "complex-examination",
   "metadata": {},
   "outputs": [
    {
     "name": "stdout",
     "output_type": "stream",
     "text": [
      "-------------------------\n",
      "groudup.chp3/dummy\n",
      "([x])\n",
      "  a dummy function to test docstrings\n"
     ]
    },
    {
     "data": {
      "text/plain": [
       "nil"
      ]
     },
     "execution_count": 30,
     "metadata": {},
     "output_type": "execute_result"
    }
   ],
   "source": [
    "(clojure.repl/doc dummy)"
   ]
  },
  {
   "cell_type": "code",
   "execution_count": 31,
   "id": "taken-paradise",
   "metadata": {},
   "outputs": [
    {
     "data": {
      "text/plain": [
       "{:arglists ([x]), :doc \"a dummy function to test docstrings\", :line 1, :column 1, :file \"NO_SOURCE_PATH\", :name dummy, :ns #namespace[groudup.chp3]}"
      ]
     },
     "execution_count": 31,
     "metadata": {},
     "output_type": "execute_result"
    }
   ],
   "source": [
    "(meta #'dummy)"
   ]
  },
  {
   "cell_type": "markdown",
   "id": "greater-destination",
   "metadata": {},
   "source": [
    "### How does type work?"
   ]
  },
  {
   "cell_type": "code",
   "execution_count": 32,
   "id": "ordinary-lawrence",
   "metadata": {},
   "outputs": [
    {
     "data": {
      "text/plain": [
       "#function[clojure.core/type]"
      ]
     },
     "execution_count": 32,
     "metadata": {},
     "output_type": "execute_result"
    }
   ],
   "source": [
    "type"
   ]
  },
  {
   "cell_type": "code",
   "execution_count": 33,
   "id": "scenic-grade",
   "metadata": {},
   "outputs": [
    {
     "data": {
      "text/plain": [
       "clojure.core$type"
      ]
     },
     "execution_count": 33,
     "metadata": {},
     "output_type": "execute_result"
    }
   ],
   "source": [
    "(type type)"
   ]
  },
  {
   "cell_type": "code",
   "execution_count": 34,
   "id": "bridal-wisconsin",
   "metadata": {},
   "outputs": [
    {
     "data": {
      "text/plain": [
       "#{clojure.lang.IFn clojure.lang.IObj clojure.lang.IMeta java.io.Serializable java.util.Comparator clojure.lang.Fn java.lang.Runnable java.lang.Object clojure.lang.AFn clojure.lang.AFunction java.util.concurrent.Callable}"
      ]
     },
     "execution_count": 34,
     "metadata": {},
     "output_type": "execute_result"
    }
   ],
   "source": [
    "(supers (type type)) ;; a set of all the types that include `type`"
   ]
  },
  {
   "cell_type": "markdown",
   "id": "christian-opposition",
   "metadata": {},
   "source": [
    "- This is a set of all the types that include `type`\n",
    "- `type` is an instance of `clojure.lang.IFn`, `clojure.lang.AFn`, ....???\n",
    "- Since `type` is a member of `clojure.lang.IMeta`, it has metadata. \n",
    "- Since `type` is a member of `clojure.lang.AFn`, it si a function"
   ]
  },
  {
   "cell_type": "code",
   "execution_count": 35,
   "id": "perceived-delta",
   "metadata": {},
   "outputs": [
    {
     "data": {
      "text/plain": [
       "true"
      ]
     },
     "execution_count": 35,
     "metadata": {},
     "output_type": "execute_result"
    }
   ],
   "source": [
    "(fn? type)"
   ]
  },
  {
   "cell_type": "code",
   "execution_count": 36,
   "id": "soviet-density",
   "metadata": {},
   "outputs": [
    {
     "name": "stdout",
     "output_type": "stream",
     "text": [
      "-------------------------\n",
      "clojure.core/type\n",
      "([x])\n",
      "  Returns the :type metadata of x, or its Class if none\n"
     ]
    },
    {
     "data": {
      "text/plain": [
       "nil"
      ]
     },
     "execution_count": 36,
     "metadata": {},
     "output_type": "execute_result"
    }
   ],
   "source": [
    "(clojure.repl/doc type)"
   ]
  },
  {
   "cell_type": "code",
   "execution_count": 37,
   "id": "unlimited-austin",
   "metadata": {},
   "outputs": [
    {
     "data": {
      "text/plain": [
       "{:added \"1.0\", :ns #namespace[clojure.core], :name type, :file \"clojure/core.clj\", :static true, :column 1, :line 3466, :arglists ([x]), :doc \"Returns the :type metadata of x, or its Class if none\"}"
      ]
     },
     "execution_count": 37,
     "metadata": {},
     "output_type": "execute_result"
    }
   ],
   "source": [
    "(meta #'type)"
   ]
  },
  {
   "cell_type": "code",
   "execution_count": 38,
   "id": "prospective-failing",
   "metadata": {},
   "outputs": [
    {
     "name": "stdout",
     "output_type": "stream",
     "text": [
      "(defn type \n",
      "  \"Returns the :type metadata of x, or its Class if none\"\n",
      "  {:added \"1.0\"\n",
      "   :static true}\n",
      "  [x]\n",
      "  (or (get (meta x) :type) (class x)))\n"
     ]
    },
    {
     "data": {
      "text/plain": [
       "nil"
      ]
     },
     "execution_count": 38,
     "metadata": {},
     "output_type": "execute_result"
    }
   ],
   "source": [
    "(clojure.repl/source type)"
   ]
  },
  {
   "cell_type": "code",
   "execution_count": 39,
   "id": "female-genre",
   "metadata": {},
   "outputs": [
    {
     "name": "stdout",
     "output_type": "stream",
     "text": [
      "(defn +\n",
      "  \"Returns the sum of nums. (+) returns 0. Does not auto-promote\n",
      "  longs, will throw on overflow. See also: +'\"\n",
      "  {:inline (nary-inline 'add 'unchecked_add)\n",
      "   :inline-arities >1?\n",
      "   :added \"1.2\"}\n",
      "  ([] 0)\n",
      "  ([x] (cast Number x))\n",
      "  ([x y] (. clojure.lang.Numbers (add x y)))\n",
      "  ([x y & more]\n",
      "     (reduce1 + (+ x y) more)))\n"
     ]
    },
    {
     "data": {
      "text/plain": [
       "nil"
      ]
     },
     "execution_count": 39,
     "metadata": {},
     "output_type": "execute_result"
    }
   ],
   "source": [
    "(clojure.repl/source +)"
   ]
  },
  {
   "cell_type": "markdown",
   "id": "frequent-muslim",
   "metadata": {},
   "source": [
    "- Almost every funciton in a programming language is mde up of other, simpler functions\n",
    "- At the bottom, though, are certain fundamental constructs below which you can go no further -- _special forms_ in Clojure\n",
    "- there are Java code underneath `(. clojure.lang.Numbers (add x y))` "
   ]
  },
  {
   "cell_type": "code",
   "execution_count": 40,
   "id": "minimal-energy",
   "metadata": {},
   "outputs": [
    {
     "name": "stdout",
     "output_type": "stream",
     "text": [
      "Source not found\n"
     ]
    },
    {
     "data": {
      "text/plain": [
       "nil"
      ]
     },
     "execution_count": 40,
     "metadata": {},
     "output_type": "execute_result"
    }
   ],
   "source": [
    "(clojure.repl/source def)"
   ]
  },
  {
   "cell_type": "code",
   "execution_count": 41,
   "id": "wound-diamond",
   "metadata": {},
   "outputs": [
    {
     "name": "stdout",
     "output_type": "stream",
     "text": [
      "(defmacro let\n",
      "  \"binding => binding-form init-expr\n",
      "\n",
      "  Evaluates the exprs in a lexical context in which the symbols in\n",
      "  the binding-forms are bound to their respective init-exprs or parts\n",
      "  therein.\"\n",
      "  {:added \"1.0\", :special-form true, :forms '[(let [bindings*] exprs*)]}\n",
      "  [bindings & body]\n",
      "  (assert-args\n",
      "     (vector? bindings) \"a vector for its binding\"\n",
      "     (even? (count bindings)) \"an even number of forms in binding vector\")\n",
      "  `(let* ~(destructure bindings) ~@body))\n"
     ]
    },
    {
     "data": {
      "text/plain": [
       "nil"
      ]
     },
     "execution_count": 41,
     "metadata": {},
     "output_type": "execute_result"
    }
   ],
   "source": [
    "(clojure.repl/source let)"
   ]
  },
  {
   "cell_type": "code",
   "execution_count": 42,
   "id": "handy-myrtle",
   "metadata": {},
   "outputs": [
    {
     "name": "stdout",
     "output_type": "stream",
     "text": [
      "Source not found\n"
     ]
    },
    {
     "data": {
      "text/plain": [
       "nil"
      ]
     },
     "execution_count": 42,
     "metadata": {},
     "output_type": "execute_result"
    }
   ],
   "source": [
    "(clojure.repl/source let*)"
   ]
  }
 ],
 "metadata": {
  "kernelspec": {
   "display_name": "Clojure (clojupyter=0.3.2=1)",
   "language": "clojure",
   "name": "conda-clojupyter"
  },
  "language_info": {
   "file_extension": ".clj",
   "mimetype": "text/x-clojure",
   "name": "clojure",
   "version": "1.10.1"
  }
 },
 "nbformat": 4,
 "nbformat_minor": 5
}
