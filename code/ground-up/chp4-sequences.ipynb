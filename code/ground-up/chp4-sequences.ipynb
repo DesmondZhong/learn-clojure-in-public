{
 "cells": [
  {
   "cell_type": "code",
   "execution_count": 1,
   "id": "packed-indie",
   "metadata": {
    "scrolled": true
   },
   "outputs": [
    {
     "data": {
      "text/plain": [
       "nil"
      ]
     },
     "execution_count": 1,
     "metadata": {},
     "output_type": "execute_result"
    }
   ],
   "source": [
    "(ns ground-up.ch4)"
   ]
  },
  {
   "cell_type": "markdown",
   "id": "played-tournament",
   "metadata": {},
   "source": [
    "- How to increment every number in the vector `[1 2 3]` to produce `[2 3 4]`?"
   ]
  },
  {
   "cell_type": "markdown",
   "id": "marine-guide",
   "metadata": {},
   "source": [
    "### A direct approach"
   ]
  },
  {
   "cell_type": "code",
   "execution_count": 2,
   "id": "federal-orientation",
   "metadata": {},
   "outputs": [
    {
     "data": {
      "text/plain": [
       "#'ground-up.ch4/numbers"
      ]
     },
     "execution_count": 2,
     "metadata": {},
     "output_type": "execute_result"
    }
   ],
   "source": [
    "(def numbers [1 2 3])"
   ]
  },
  {
   "cell_type": "code",
   "execution_count": 3,
   "id": "egyptian-account",
   "metadata": {},
   "outputs": [
    {
     "data": {
      "text/plain": [
       "1"
      ]
     },
     "execution_count": 3,
     "metadata": {},
     "output_type": "execute_result"
    }
   ],
   "source": [
    "(nth numbers 0)"
   ]
  },
  {
   "cell_type": "code",
   "execution_count": 4,
   "id": "solid-stevens",
   "metadata": {},
   "outputs": [
    {
     "data": {
      "text/plain": [
       "2"
      ]
     },
     "execution_count": 4,
     "metadata": {},
     "output_type": "execute_result"
    }
   ],
   "source": [
    "(inc (nth numbers 0))"
   ]
  },
  {
   "cell_type": "markdown",
   "id": "studied-resort",
   "metadata": {},
   "source": [
    "### Recursion\n",
    "- split up a sequence"
   ]
  },
  {
   "cell_type": "code",
   "execution_count": 5,
   "id": "greek-scheduling",
   "metadata": {},
   "outputs": [
    {
     "data": {
      "text/plain": [
       "1"
      ]
     },
     "execution_count": 5,
     "metadata": {},
     "output_type": "execute_result"
    }
   ],
   "source": [
    "(first numbers)"
   ]
  },
  {
   "cell_type": "code",
   "execution_count": 6,
   "id": "stuck-dancing",
   "metadata": {},
   "outputs": [
    {
     "data": {
      "text/plain": [
       "(2 3)"
      ]
     },
     "execution_count": 6,
     "metadata": {},
     "output_type": "execute_result"
    }
   ],
   "source": [
    "(rest numbers)"
   ]
  },
  {
   "cell_type": "markdown",
   "id": "selective-providence",
   "metadata": {},
   "source": [
    "- glue them back"
   ]
  },
  {
   "cell_type": "code",
   "execution_count": 7,
   "id": "heard-mixture",
   "metadata": {},
   "outputs": [
    {
     "data": {
      "text/plain": [
       "(1 2 3)"
      ]
     },
     "execution_count": 7,
     "metadata": {},
     "output_type": "execute_result"
    }
   ],
   "source": [
    "(cons 1 [2 3])"
   ]
  },
  {
   "cell_type": "markdown",
   "id": "neither-quebec",
   "metadata": {},
   "source": [
    "- split up a sequence increment the first part, and join them back together"
   ]
  },
  {
   "cell_type": "code",
   "execution_count": 8,
   "id": "square-welding",
   "metadata": {},
   "outputs": [
    {
     "data": {
      "text/plain": [
       "#'ground-up.ch4/inc-first"
      ]
     },
     "execution_count": 8,
     "metadata": {},
     "output_type": "execute_result"
    }
   ],
   "source": [
    "(defn inc-first [nums]\n",
    "    (cons (inc (first nums))\n",
    "          (rest nums)))"
   ]
  },
  {
   "cell_type": "code",
   "execution_count": 9,
   "id": "metropolitan-elimination",
   "metadata": {},
   "outputs": [
    {
     "data": {
      "text/plain": [
       "(2 2 3)"
      ]
     },
     "execution_count": 9,
     "metadata": {},
     "output_type": "execute_result"
    }
   ],
   "source": [
    "(inc-first numbers)"
   ]
  },
  {
   "cell_type": "code",
   "execution_count": 10,
   "id": "supported-zambia",
   "metadata": {},
   "outputs": [
    {
     "name": "stderr",
     "output_type": "stream",
     "text": [
      "Execution error (NullPointerException) at ground-up.ch4/inc-first (REPL:2).\n",
      "null\n"
     ]
    },
    {
     "ename": "class java.lang.NullPointerException",
     "evalue": "",
     "output_type": "error",
     "traceback": [
      "Numbers.java:  1068 clojure.lang.Numbers/ops",
      "Numbers.java:   137 clojure.lang.Numbers/inc",
      "    core.clj:  3214 clojure.core$eval/invokeStatic",
      "    core.clj:  3210 clojure.core$eval/invoke",
      "    main.clj:   437 clojure.main$repl$read_eval_print__9086$fn__9089/invoke",
      "    main.clj:   458 clojure.main$repl$fn__9095/invoke",
      "    main.clj:   368 clojure.main$repl/doInvoke",
      " RestFn.java:  1523 clojure.lang.RestFn/invoke",
      "    AFn.java:    22 clojure.lang.AFn/run",
      "    AFn.java:    22 clojure.lang.AFn/run",
      " Thread.java:   745 java.lang.Thread/run"
     ]
    }
   ],
   "source": [
    ";; can't increment the first element of an empty vector\n",
    "(inc-first [])"
   ]
  },
  {
   "cell_type": "code",
   "execution_count": 11,
   "id": "executive-scottish",
   "metadata": {},
   "outputs": [
    {
     "data": {
      "text/plain": [
       "nil"
      ]
     },
     "execution_count": 11,
     "metadata": {},
     "output_type": "execute_result"
    }
   ],
   "source": [
    "(first [])"
   ]
  },
  {
   "cell_type": "code",
   "execution_count": 12,
   "id": "efficient-guest",
   "metadata": {},
   "outputs": [
    {
     "name": "stdout",
     "output_type": "stream",
     "text": [
      "-------------------------\n",
      "if\n",
      "  (if test then else?)\n",
      "Special Form\n",
      "  Evaluates test. If not the singular values nil or false,\n",
      "  evaluates and yields then, otherwise, evaluates and yields else. If\n",
      "  else is not supplied it defaults to nil.\n",
      "\n",
      "  Please see http://clojure.org/special_forms#if\n",
      "  Evaluates test. If not the singular values nil or false,\n",
      "  evaluates and yields then, otherwise, evaluates and yields else. If\n",
      "  else is not supplied it defaults to nil.\n"
     ]
    },
    {
     "data": {
      "text/plain": [
       "nil"
      ]
     },
     "execution_count": 12,
     "metadata": {},
     "output_type": "execute_result"
    }
   ],
   "source": [
    "(clojure.repl/doc if)"
   ]
  },
  {
   "cell_type": "code",
   "execution_count": 13,
   "id": "comprehensive-angle",
   "metadata": {},
   "outputs": [
    {
     "data": {
      "text/plain": [
       "#'ground-up.ch4/inc-first"
      ]
     },
     "execution_count": 13,
     "metadata": {},
     "output_type": "execute_result"
    }
   ],
   "source": [
    "(defn inc-first [nums]\n",
    "    (if (first nums)\n",
    "        (cons (inc (first nums))\n",
    "              (rest nums))\n",
    "        (list)))"
   ]
  },
  {
   "cell_type": "code",
   "execution_count": 14,
   "id": "wired-recovery",
   "metadata": {},
   "outputs": [
    {
     "data": {
      "text/plain": [
       "()"
      ]
     },
     "execution_count": 14,
     "metadata": {},
     "output_type": "execute_result"
    }
   ],
   "source": [
    "(inc-first [])"
   ]
  },
  {
   "cell_type": "code",
   "execution_count": 15,
   "id": "funded-damages",
   "metadata": {},
   "outputs": [
    {
     "data": {
      "text/plain": [
       "(2 2 3)"
      ]
     },
     "execution_count": 15,
     "metadata": {},
     "output_type": "execute_result"
    }
   ],
   "source": [
    "(inc-first numbers)"
   ]
  },
  {
   "cell_type": "code",
   "execution_count": 16,
   "id": "freelance-cloud",
   "metadata": {},
   "outputs": [
    {
     "data": {
      "text/plain": [
       "#'ground-up.ch4/inc-more"
      ]
     },
     "execution_count": 16,
     "metadata": {},
     "output_type": "execute_result"
    }
   ],
   "source": [
    "(defn inc-more [nums]\n",
    "    (if (first nums)\n",
    "        (cons (inc (first nums))\n",
    "              (inc-more (rest nums)))\n",
    "        (list)))"
   ]
  },
  {
   "cell_type": "code",
   "execution_count": 17,
   "id": "detailed-arcade",
   "metadata": {},
   "outputs": [
    {
     "data": {
      "text/plain": [
       "(2 3 4)"
      ]
     },
     "execution_count": 17,
     "metadata": {},
     "output_type": "execute_result"
    }
   ],
   "source": [
    "(inc-more numbers)"
   ]
  },
  {
   "cell_type": "markdown",
   "id": "active-contamination",
   "metadata": {},
   "source": [
    "key elements in a recursive program\n",
    "- some part of the problem which has a known solution (base case)\n",
    "- a relationship which connects one part of the problem to the next (inductive case)"
   ]
  },
  {
   "cell_type": "markdown",
   "id": "mighty-lightweight",
   "metadata": {},
   "source": [
    "### Generalizing from inc\n",
    "parametrize our funciton to use any transformation of its elements"
   ]
  },
  {
   "cell_type": "code",
   "execution_count": 18,
   "id": "exciting-spirituality",
   "metadata": {},
   "outputs": [
    {
     "data": {
      "text/plain": [
       "#'ground-up.ch4/transform-all"
      ]
     },
     "execution_count": 18,
     "metadata": {},
     "output_type": "execute_result"
    }
   ],
   "source": [
    "(defn transform-all [f xs]\n",
    "    (if (first xs)\n",
    "        (cons (f (first xs))\n",
    "              (transform-all f (rest xs)))\n",
    "        (list)))"
   ]
  },
  {
   "cell_type": "code",
   "execution_count": 19,
   "id": "driving-builder",
   "metadata": {},
   "outputs": [
    {
     "data": {
      "text/plain": [
       "(2 3 4 5)"
      ]
     },
     "execution_count": 19,
     "metadata": {},
     "output_type": "execute_result"
    }
   ],
   "source": [
    "(transform-all inc [1 2 3 4])"
   ]
  },
  {
   "cell_type": "code",
   "execution_count": 20,
   "id": "threatened-customs",
   "metadata": {},
   "outputs": [
    {
     "data": {
      "text/plain": [
       "(:bell :hooks)"
      ]
     },
     "execution_count": 20,
     "metadata": {},
     "output_type": "execute_result"
    }
   ],
   "source": [
    "(transform-all keyword [\"bell\" \"hooks\"])"
   ]
  },
  {
   "cell_type": "code",
   "execution_count": 21,
   "id": "combined-convention",
   "metadata": {},
   "outputs": [
    {
     "data": {
      "text/plain": [
       "((:codex) (:book) (:manuscript))"
      ]
     },
     "execution_count": 21,
     "metadata": {},
     "output_type": "execute_result"
    }
   ],
   "source": [
    "(transform-all list [:codex :book :manuscript])"
   ]
  },
  {
   "cell_type": "markdown",
   "id": "exclusive-height",
   "metadata": {},
   "source": [
    "- we've implemented the `map` function!"
   ]
  },
  {
   "cell_type": "code",
   "execution_count": 22,
   "id": "standard-taylor",
   "metadata": {},
   "outputs": [
    {
     "data": {
      "text/plain": [
       "(2 3 4 5)"
      ]
     },
     "execution_count": 22,
     "metadata": {},
     "output_type": "execute_result"
    }
   ],
   "source": [
    "(map inc [1 2 3 4])"
   ]
  },
  {
   "cell_type": "code",
   "execution_count": 23,
   "id": "endangered-growth",
   "metadata": {},
   "outputs": [
    {
     "data": {
      "text/plain": [
       "#'ground-up.ch4/expand"
      ]
     },
     "execution_count": 23,
     "metadata": {},
     "output_type": "execute_result"
    }
   ],
   "source": [
    "(defn expand [f x cnt]\n",
    "    (when (pos? cnt)\n",
    "        (cons x (expand f (f x) (dec cnt)))))"
   ]
  },
  {
   "cell_type": "code",
   "execution_count": 24,
   "id": "numeric-representative",
   "metadata": {},
   "outputs": [
    {
     "data": {
      "text/plain": [
       "(0 1 2 3 4 5 6 7 8 9)"
      ]
     },
     "execution_count": 24,
     "metadata": {},
     "output_type": "execute_result"
    }
   ],
   "source": [
    "(expand inc 0 10)"
   ]
  },
  {
   "cell_type": "markdown",
   "id": "hired-terrain",
   "metadata": {},
   "source": [
    "- we've implemented a simple version of `iterate`!"
   ]
  },
  {
   "cell_type": "code",
   "execution_count": 25,
   "id": "upset-inspiration",
   "metadata": {},
   "outputs": [
    {
     "data": {
      "text/plain": [
       "(0 1 2 3 4 5 6 7 8 9)"
      ]
     },
     "execution_count": 25,
     "metadata": {},
     "output_type": "execute_result"
    }
   ],
   "source": [
    "(take 10 (iterate inc 0))"
   ]
  },
  {
   "cell_type": "code",
   "execution_count": 26,
   "id": "colored-ballot",
   "metadata": {},
   "outputs": [
    {
     "data": {
      "text/plain": [
       "(\"y\" \"yo\" \"yoo\" \"yooo\" \"yoooo\")"
      ]
     },
     "execution_count": 26,
     "metadata": {},
     "output_type": "execute_result"
    }
   ],
   "source": [
    ";; use iterate to build up strings\n",
    "(take 5 (iterate (fn [x] (str x \"o\")) \"y\"))"
   ]
  },
  {
   "cell_type": "code",
   "execution_count": 27,
   "id": "institutional-placement",
   "metadata": {},
   "outputs": [
    {
     "data": {
      "text/plain": [
       "(\"hi\" \"hi\" \"hi\" \"hi\" \"hi\" \"hi\" \"hi\" \"hi\" \"hi\" \"hi\")"
      ]
     },
     "execution_count": 27,
     "metadata": {},
     "output_type": "execute_result"
    }
   ],
   "source": [
    "(take 10 (repeat \"hi\"))"
   ]
  },
  {
   "cell_type": "markdown",
   "id": "prostate-import",
   "metadata": {},
   "source": [
    "- `repeat` constructs a sequence where every elemnet is the same\n",
    "- `repeatedly` calls a function `f` to generate an infinite sequence of values"
   ]
  },
  {
   "cell_type": "code",
   "execution_count": 28,
   "id": "decimal-maldives",
   "metadata": {},
   "outputs": [
    {
     "data": {
      "text/plain": [
       "(:echo :echo :echo)"
      ]
     },
     "execution_count": 28,
     "metadata": {},
     "output_type": "execute_result"
    }
   ],
   "source": [
    "(repeat 3 :echo)"
   ]
  },
  {
   "cell_type": "code",
   "execution_count": 29,
   "id": "amazing-twenty",
   "metadata": {},
   "outputs": [
    {
     "data": {
      "text/plain": [
       "(0.8706670996757666 0.5105585256980583 0.10756347353215445)"
      ]
     },
     "execution_count": 29,
     "metadata": {},
     "output_type": "execute_result"
    }
   ],
   "source": [
    "(take 3 (repeatedly rand))"
   ]
  },
  {
   "cell_type": "markdown",
   "id": "directed-present",
   "metadata": {},
   "source": [
    "- Note: `rand` is an impure function, since it cannot replaced by the same value every time. It does something different each time it's called"
   ]
  },
  {
   "cell_type": "markdown",
   "id": "photographic-feature",
   "metadata": {},
   "source": [
    "- `range` is a sequence function specifically for numbers\n",
    "- `cycle` extends a sequence by repeating it forever"
   ]
  },
  {
   "cell_type": "code",
   "execution_count": 30,
   "id": "portable-webcam",
   "metadata": {},
   "outputs": [
    {
     "data": {
      "text/plain": [
       "(0 1 2 3 4)"
      ]
     },
     "execution_count": 30,
     "metadata": {},
     "output_type": "execute_result"
    }
   ],
   "source": [
    "(range 5)"
   ]
  },
  {
   "cell_type": "code",
   "execution_count": 31,
   "id": "revised-globe",
   "metadata": {},
   "outputs": [
    {
     "data": {
      "text/plain": [
       "(2 3 4 5 6 7 8 9)"
      ]
     },
     "execution_count": 31,
     "metadata": {},
     "output_type": "execute_result"
    }
   ],
   "source": [
    "(range 2 10)"
   ]
  },
  {
   "cell_type": "code",
   "execution_count": 32,
   "id": "refined-volunteer",
   "metadata": {},
   "outputs": [
    {
     "data": {
      "text/plain": [
       "(0 5 10 15 20 25 30 35 40 45 50 55 60 65 70 75 80 85 90 95)"
      ]
     },
     "execution_count": 32,
     "metadata": {},
     "output_type": "execute_result"
    }
   ],
   "source": [
    "(range 0 100 5)"
   ]
  },
  {
   "cell_type": "code",
   "execution_count": 33,
   "id": "preceding-young",
   "metadata": {},
   "outputs": [
    {
     "data": {
      "text/plain": [
       "(1 2 3 1 2 3 1 2 3 1)"
      ]
     },
     "execution_count": 33,
     "metadata": {},
     "output_type": "execute_result"
    }
   ],
   "source": [
    "(take 10 (cycle [1 2 3]))"
   ]
  },
  {
   "cell_type": "markdown",
   "id": "general-dealer",
   "metadata": {},
   "source": [
    "## Transforming sequences"
   ]
  },
  {
   "cell_type": "markdown",
   "id": "romantic-taxation",
   "metadata": {},
   "source": [
    "- If given multiple sequences, `map` calls its function with one element from each sequence in turn, like a zipper"
   ]
  },
  {
   "cell_type": "code",
   "execution_count": 34,
   "id": "narrow-stretch",
   "metadata": {},
   "outputs": [
    {
     "data": {
      "text/plain": [
       "(\"I've got 0 cars\" \"I've got 200 trains\" \"I've got 9 kiteboards\")"
      ]
     },
     "execution_count": 34,
     "metadata": {},
     "output_type": "execute_result"
    }
   ],
   "source": [
    "(map (fn [n vehicle] (str \"I've got \" n \" \" vehicle \"s\"))\n",
    "     [0 200 9]\n",
    "     [\"car\" \"train\" \"kiteboard\"])"
   ]
  },
  {
   "cell_type": "code",
   "execution_count": 35,
   "id": "pending-spectrum",
   "metadata": {},
   "outputs": [
    {
     "data": {
      "text/plain": [
       "(12 15 18)"
      ]
     },
     "execution_count": 35,
     "metadata": {},
     "output_type": "execute_result"
    }
   ],
   "source": [
    "(map + [1 2 3]\n",
    "       [4 5 6]\n",
    "       [7 8 9])"
   ]
  },
  {
   "cell_type": "markdown",
   "id": "concrete-management",
   "metadata": {},
   "source": [
    "- if two sequences has different sizes, `map` stops at the smaller one. This allows us to combine finite and infinite sequences. "
   ]
  },
  {
   "cell_type": "code",
   "execution_count": 36,
   "id": "coral-assist",
   "metadata": {},
   "outputs": [
    {
     "data": {
      "text/plain": [
       "(\"0. erlang\" \"1. ruby\" \"2. haskell\")"
      ]
     },
     "execution_count": 36,
     "metadata": {},
     "output_type": "execute_result"
    }
   ],
   "source": [
    "(map (fn [index element] (str index \". \" element))\n",
    "     (iterate inc 0)\n",
    "     [\"erlang\" \"ruby\" \"haskell\"])"
   ]
  },
  {
   "cell_type": "code",
   "execution_count": 37,
   "id": "circular-carroll",
   "metadata": {},
   "outputs": [
    {
     "data": {
      "text/plain": [
       "#function[clojure.core/map-indexed]"
      ]
     },
     "execution_count": 37,
     "metadata": {},
     "output_type": "execute_result"
    }
   ],
   "source": [
    "map-indexed"
   ]
  },
  {
   "cell_type": "code",
   "execution_count": 38,
   "id": "portuguese-wheel",
   "metadata": {},
   "outputs": [
    {
     "data": {
      "text/plain": [
       "(\"0. erlang\" \"1. ruby\" \"2. haskell\")"
      ]
     },
     "execution_count": 38,
     "metadata": {},
     "output_type": "execute_result"
    }
   ],
   "source": [
    ";; this is a common operation so we have a built-in function!\n",
    "(map-indexed (fn [index element] (str index \". \" element))\n",
    "     [\"erlang\" \"ruby\" \"haskell\"])"
   ]
  },
  {
   "cell_type": "code",
   "execution_count": 39,
   "id": "going-january",
   "metadata": {},
   "outputs": [
    {
     "data": {
      "text/plain": [
       "(1 2 3 :a :b :c 4 5 6)"
      ]
     },
     "execution_count": 39,
     "metadata": {},
     "output_type": "execute_result"
    }
   ],
   "source": [
    ";; concatenate sequences\n",
    "(concat [1 2 3] [:a :b :c] [4 5 6])"
   ]
  },
  {
   "cell_type": "code",
   "execution_count": 40,
   "id": "major-address",
   "metadata": {},
   "outputs": [
    {
     "data": {
      "text/plain": [
       "(1 2 3 :a :b :c 4 5 6)"
      ]
     },
     "execution_count": 40,
     "metadata": {},
     "output_type": "execute_result"
    }
   ],
   "source": [
    "(concat '(1 2 3) [:a :b :c] '(4 5 6))"
   ]
  },
  {
   "cell_type": "code",
   "execution_count": 41,
   "id": "finished-twenty",
   "metadata": {},
   "outputs": [
    {
     "data": {
      "text/plain": [
       "(1 :a 2 :b 3 :c)"
      ]
     },
     "execution_count": 41,
     "metadata": {},
     "output_type": "execute_result"
    }
   ],
   "source": [
    ";;interleave\n",
    "(interleave '(1 2 3) [:a :b :c])"
   ]
  },
  {
   "cell_type": "code",
   "execution_count": 42,
   "id": "affiliated-jewelry",
   "metadata": {},
   "outputs": [
    {
     "data": {
      "text/plain": [
       "(1 :and 2 :and 3 :and 4)"
      ]
     },
     "execution_count": 42,
     "metadata": {},
     "output_type": "execute_result"
    }
   ],
   "source": [
    ";; interpose: insert a specific element between each successive pair in a sequence\n",
    "(interpose :and [1 2 3 4])"
   ]
  },
  {
   "cell_type": "code",
   "execution_count": 43,
   "id": "anticipated-alaska",
   "metadata": {},
   "outputs": [
    {
     "data": {
      "text/plain": [
       "(3 2 1)"
      ]
     },
     "execution_count": 43,
     "metadata": {},
     "output_type": "execute_result"
    }
   ],
   "source": [
    "(reverse [1 2 3])"
   ]
  },
  {
   "cell_type": "code",
   "execution_count": 44,
   "id": "undefined-injection",
   "metadata": {},
   "outputs": [
    {
     "data": {
      "text/plain": [
       "(\\f \\l \\o \\o \\w)"
      ]
     },
     "execution_count": 44,
     "metadata": {},
     "output_type": "execute_result"
    }
   ],
   "source": [
    "(reverse \"woolf\")"
   ]
  },
  {
   "cell_type": "code",
   "execution_count": 45,
   "id": "silver-foundation",
   "metadata": {},
   "outputs": [
    {
     "data": {
      "text/plain": [
       "\"floow\""
      ]
     },
     "execution_count": 45,
     "metadata": {},
     "output_type": "execute_result"
    }
   ],
   "source": [
    ";; strings are sequences \n",
    ";; each element of a string is a character\n",
    ";; rejoin characters by `apply str`\n",
    "(apply str (reverse \"woolf\"))"
   ]
  },
  {
   "cell_type": "code",
   "execution_count": 46,
   "id": "plain-franklin",
   "metadata": {},
   "outputs": [
    {
     "data": {
      "text/plain": [
       "(\\s \\a \\t \\o)"
      ]
     },
     "execution_count": 46,
     "metadata": {},
     "output_type": "execute_result"
    }
   ],
   "source": [
    ";; break strings up into sequences\n",
    "(seq \"sato\")"
   ]
  },
  {
   "cell_type": "code",
   "execution_count": 47,
   "id": "complex-roots",
   "metadata": {},
   "outputs": [
    {
     "data": {
      "text/plain": [
       "(\\s \\a \\t \\a)"
      ]
     },
     "execution_count": 47,
     "metadata": {},
     "output_type": "execute_result"
    }
   ],
   "source": [
    "(sequence \"sata\")"
   ]
  },
  {
   "cell_type": "code",
   "execution_count": 48,
   "id": "asian-suffering",
   "metadata": {},
   "outputs": [
    {
     "data": {
      "text/plain": [
       "[1 2 4 3]"
      ]
     },
     "execution_count": 48,
     "metadata": {},
     "output_type": "execute_result"
    }
   ],
   "source": [
    ";; randomize the order of a sequence\n",
    "(shuffle [1 2 3 4])"
   ]
  },
  {
   "cell_type": "markdown",
   "id": "ancient-juice",
   "metadata": {},
   "source": [
    "### Subsequences\n",
    "- slicing on sequences"
   ]
  },
  {
   "cell_type": "code",
   "execution_count": 49,
   "id": "fantastic-tactics",
   "metadata": {},
   "outputs": [
    {
     "data": {
      "text/plain": [
       "(0 1 2 3 4 5 6 7 8 9)"
      ]
     },
     "execution_count": 49,
     "metadata": {},
     "output_type": "execute_result"
    }
   ],
   "source": [
    "(range 10)"
   ]
  },
  {
   "cell_type": "code",
   "execution_count": 50,
   "id": "technological-language",
   "metadata": {},
   "outputs": [
    {
     "data": {
      "text/plain": [
       "(0 1 2)"
      ]
     },
     "execution_count": 50,
     "metadata": {},
     "output_type": "execute_result"
    }
   ],
   "source": [
    "(take 3 (range 10))"
   ]
  },
  {
   "cell_type": "code",
   "execution_count": 51,
   "id": "august-express",
   "metadata": {},
   "outputs": [
    {
     "data": {
      "text/plain": [
       "(3 4 5 6 7 8 9)"
      ]
     },
     "execution_count": 51,
     "metadata": {},
     "output_type": "execute_result"
    }
   ],
   "source": [
    "(drop 3 (range 10))"
   ]
  },
  {
   "cell_type": "code",
   "execution_count": 52,
   "id": "electric-november",
   "metadata": {},
   "outputs": [
    {
     "data": {
      "text/plain": [
       "(7 8 9)"
      ]
     },
     "execution_count": 52,
     "metadata": {},
     "output_type": "execute_result"
    }
   ],
   "source": [
    "(take-last 3 (range 10))"
   ]
  },
  {
   "cell_type": "code",
   "execution_count": 53,
   "id": "sweet-beaver",
   "metadata": {},
   "outputs": [
    {
     "data": {
      "text/plain": [
       "(0 1 2 3 4 5 6)"
      ]
     },
     "execution_count": 53,
     "metadata": {},
     "output_type": "execute_result"
    }
   ],
   "source": [
    "(drop-last 3 (range 10))"
   ]
  },
  {
   "cell_type": "markdown",
   "id": "fancy-december",
   "metadata": {},
   "source": [
    "- `take-while` and `drop-while` work just like `take` and `drop`, but use a function to decide when to cut"
   ]
  },
  {
   "cell_type": "code",
   "execution_count": 54,
   "id": "fantastic-biotechnology",
   "metadata": {},
   "outputs": [
    {
     "data": {
      "text/plain": [
       "(3 2 1)"
      ]
     },
     "execution_count": 54,
     "metadata": {},
     "output_type": "execute_result"
    }
   ],
   "source": [
    "(take-while pos? [3 2 1 0 -1 10 11])"
   ]
  },
  {
   "cell_type": "code",
   "execution_count": 55,
   "id": "wound-length",
   "metadata": {},
   "outputs": [
    {
     "data": {
      "text/plain": [
       "(8 9 10 11)"
      ]
     },
     "execution_count": 55,
     "metadata": {},
     "output_type": "execute_result"
    }
   ],
   "source": [
    "(drop-while odd? [3 5 7 8 9 10 11])"
   ]
  },
  {
   "cell_type": "markdown",
   "id": "conscious-internet",
   "metadata": {},
   "source": [
    "- cut a sequence in twain by giving it a particular index or a function"
   ]
  },
  {
   "cell_type": "code",
   "execution_count": 56,
   "id": "owned-indiana",
   "metadata": {},
   "outputs": [
    {
     "data": {
      "text/plain": [
       "[(0 1 2 3) (4 5 6 7 8 9)]"
      ]
     },
     "execution_count": 56,
     "metadata": {},
     "output_type": "execute_result"
    }
   ],
   "source": [
    "(split-at 4 (range 10))"
   ]
  },
  {
   "cell_type": "code",
   "execution_count": 57,
   "id": "three-nylon",
   "metadata": {},
   "outputs": [
    {
     "data": {
      "text/plain": [
       "[(1 2 3) (:mark 4 5 6 :mark 7)]"
      ]
     },
     "execution_count": 57,
     "metadata": {},
     "output_type": "execute_result"
    }
   ],
   "source": [
    "(split-with number? [1 2 3 :mark 4 5 6 :mark 7])"
   ]
  },
  {
   "cell_type": "code",
   "execution_count": 58,
   "id": "buried-merchandise",
   "metadata": {},
   "outputs": [
    {
     "data": {
      "text/plain": [
       "(1 5 3)"
      ]
     },
     "execution_count": 58,
     "metadata": {},
     "output_type": "execute_result"
    }
   ],
   "source": [
    "(filter pos? [1 5 -4 -7 3])"
   ]
  },
  {
   "cell_type": "code",
   "execution_count": 59,
   "id": "desperate-communication",
   "metadata": {},
   "outputs": [
    {
     "data": {
      "text/plain": [
       "(1 :apple (1))"
      ]
     },
     "execution_count": 59,
     "metadata": {},
     "output_type": "execute_result"
    }
   ],
   "source": [
    ";; complement of filter!\n",
    "(remove string? [1 \"turing\" :apple '(1)])"
   ]
  },
  {
   "cell_type": "markdown",
   "id": "equivalent-necessity",
   "metadata": {},
   "source": [
    "- group a sequence into chunks"
   ]
  },
  {
   "cell_type": "code",
   "execution_count": 60,
   "id": "linear-warrior",
   "metadata": {},
   "outputs": [
    {
     "data": {
      "text/plain": [
       "((:cats 5) (:bats 27) (:crocodiles 0))"
      ]
     },
     "execution_count": 60,
     "metadata": {},
     "output_type": "execute_result"
    }
   ],
   "source": [
    "(partition 2 [:cats 5 :bats 27 :crocodiles 0])"
   ]
  },
  {
   "cell_type": "code",
   "execution_count": 61,
   "id": "harmful-force",
   "metadata": {},
   "outputs": [
    {
     "data": {
      "text/plain": [
       "((0 1 2) (3 4 5) (6 7 8) (9))"
      ]
     },
     "execution_count": 61,
     "metadata": {},
     "output_type": "execute_result"
    }
   ],
   "source": [
    "(partition-all 3 (range 10))"
   ]
  },
  {
   "cell_type": "code",
   "execution_count": 62,
   "id": "worst-daniel",
   "metadata": {},
   "outputs": [
    {
     "data": {
      "text/plain": [
       "((1 2 3 2 1) (-1 -2 -3 -2 -1) (1 2 3))"
      ]
     },
     "execution_count": 62,
     "metadata": {},
     "output_type": "execute_result"
    }
   ],
   "source": [
    "(partition-by neg? [1 2 3 2 1 -1 -2 -3 -2 -1 1 2 3])"
   ]
  },
  {
   "cell_type": "markdown",
   "id": "limiting-cowboy",
   "metadata": {},
   "source": [
    "### Collapsing sequences\n",
    "- number of times each element appears in a sequence"
   ]
  },
  {
   "cell_type": "code",
   "execution_count": 63,
   "id": "permanent-senior",
   "metadata": {},
   "outputs": [
    {
     "data": {
      "text/plain": [
       "{:meow 3, :mrrow 1}"
      ]
     },
     "execution_count": 63,
     "metadata": {},
     "output_type": "execute_result"
    }
   ],
   "source": [
    "(frequencies [:meow :mrrow :meow :meow])"
   ]
  },
  {
   "cell_type": "markdown",
   "id": "christian-genre",
   "metadata": {},
   "source": [
    "- group elements by some function"
   ]
  },
  {
   "cell_type": "code",
   "execution_count": 64,
   "id": "sealed-communication",
   "metadata": {},
   "outputs": [
    {
     "data": {
      "text/plain": [
       "{\"Li\" [{:first \"Li\", :last \"Zhou\"} {:first \"Li\", :last \"O'Toole\"}], \"Sarah\" [{:first \"Sarah\", :last \"Lee\"} {:first \"Sarah\", :last \"Dunn\"}]}"
      ]
     },
     "execution_count": 64,
     "metadata": {},
     "output_type": "execute_result"
    }
   ],
   "source": [
    ";; here :first is uased as a function\n",
    ";; group-by use that function to produce a map of first anmes to lists of people\n",
    "(group-by :first [{:first \"Li\"    :last \"Zhou\"}\n",
    "                  {:first \"Sarah\" :last \"Lee\"}\n",
    "                  {:first \"Sarah\" :last \"Dunn\"}\n",
    "                  {:first \"Li\"    :last \"O'Toole\"}])"
   ]
  },
  {
   "cell_type": "markdown",
   "id": "understanding-somewhere",
   "metadata": {},
   "source": [
    "- `reduce`: need to provide a function that takes two arguments\n",
    "- `reductions` returns a sequence of all the intermediate states"
   ]
  },
  {
   "cell_type": "code",
   "execution_count": 65,
   "id": "shared-hammer",
   "metadata": {},
   "outputs": [
    {
     "data": {
      "text/plain": [
       "10"
      ]
     },
     "execution_count": 65,
     "metadata": {},
     "output_type": "execute_result"
    }
   ],
   "source": [
    "(reduce + [1 2 3 4])"
   ]
  },
  {
   "cell_type": "code",
   "execution_count": 66,
   "id": "adjusted-reducing",
   "metadata": {},
   "outputs": [
    {
     "data": {
      "text/plain": [
       "(1 3 6 10)"
      ]
     },
     "execution_count": 66,
     "metadata": {},
     "output_type": "execute_result"
    }
   ],
   "source": [
    "(reductions + [1 2 3 4])"
   ]
  },
  {
   "cell_type": "code",
   "execution_count": 67,
   "id": "editorial-point",
   "metadata": {},
   "outputs": [
    {
     "data": {
      "text/plain": [
       "#{:b :a}"
      ]
     },
     "execution_count": 67,
     "metadata": {},
     "output_type": "execute_result"
    }
   ],
   "source": [
    ";; start with a defualt value to reduce elements into collections\n",
    "(reduce conj #{} [:a :b :b :b :a :a])"
   ]
  },
  {
   "cell_type": "code",
   "execution_count": 68,
   "id": "collaborative-license",
   "metadata": {},
   "outputs": [
    {
     "data": {
      "text/plain": [
       "#{:b :a}"
      ]
     },
     "execution_count": 68,
     "metadata": {},
     "output_type": "execute_result"
    }
   ],
   "source": [
    ";; this is into!\n",
    "(into #{} [:a :b :b :b :a :a])"
   ]
  },
  {
   "cell_type": "code",
   "execution_count": 69,
   "id": "genetic-qualification",
   "metadata": {},
   "outputs": [
    {
     "data": {
      "text/plain": [
       "{:a 2, :b 3}"
      ]
     },
     "execution_count": 69,
     "metadata": {},
     "output_type": "execute_result"
    }
   ],
   "source": [
    "(reduce conj {} [[:a 2] [:b 3]])"
   ]
  },
  {
   "cell_type": "code",
   "execution_count": 70,
   "id": "encouraging-garden",
   "metadata": {},
   "outputs": [
    {
     "data": {
      "text/plain": [
       "{:a 2, :b 3}"
      ]
     },
     "execution_count": 70,
     "metadata": {},
     "output_type": "execute_result"
    }
   ],
   "source": [
    "(into {} [[:a 2] [:b 3]])"
   ]
  },
  {
   "cell_type": "markdown",
   "id": "coated-hunger",
   "metadata": {},
   "source": [
    "- elemented added to a list apprear at the beginning, not the end, we can use this to achieve reverse"
   ]
  },
  {
   "cell_type": "code",
   "execution_count": 71,
   "id": "authentic-wayne",
   "metadata": {},
   "outputs": [
    {
     "data": {
      "text/plain": [
       "(5 4 3 2 1)"
      ]
     },
     "execution_count": 71,
     "metadata": {},
     "output_type": "execute_result"
    }
   ],
   "source": [
    "(into (list) [1 2 3 4 5])"
   ]
  },
  {
   "cell_type": "code",
   "execution_count": 72,
   "id": "spatial-airline",
   "metadata": {},
   "outputs": [
    {
     "data": {
      "text/plain": [
       "[1 2 3 4 5]"
      ]
     },
     "execution_count": 72,
     "metadata": {},
     "output_type": "execute_result"
    }
   ],
   "source": [
    ";; looks like map!\n",
    "(reduce conj [] [1 2 3 4 5])"
   ]
  },
  {
   "cell_type": "code",
   "execution_count": 73,
   "id": "corresponding-worth",
   "metadata": {},
   "outputs": [
    {
     "data": {
      "text/plain": [
       "#'ground-up.ch4/my-map"
      ]
     },
     "execution_count": 73,
     "metadata": {},
     "output_type": "execute_result"
    }
   ],
   "source": [
    ";; map is just a special kind of reduce\n",
    "(defn my-map [f coll]\n",
    "    (reduce (fn [xs x] (conj xs (f x))) [] coll))"
   ]
  },
  {
   "cell_type": "code",
   "execution_count": 74,
   "id": "proof-active",
   "metadata": {},
   "outputs": [
    {
     "data": {
      "text/plain": [
       "[2 3 4 5]"
      ]
     },
     "execution_count": 74,
     "metadata": {},
     "output_type": "execute_result"
    }
   ],
   "source": [
    "(my-map inc [1 2 3 4])"
   ]
  },
  {
   "cell_type": "code",
   "execution_count": 75,
   "id": "capable-robert",
   "metadata": {},
   "outputs": [
    {
     "data": {
      "text/plain": [
       "#'ground-up.ch4/my-take-while"
      ]
     },
     "execution_count": 75,
     "metadata": {},
     "output_type": "execute_result"
    }
   ],
   "source": [
    "(defn my-take-while [f coll]\n",
    "    (reduce (fn [xs x]\n",
    "                (if (f x)\n",
    "                    (conj xs x)\n",
    "                    (reduced xs))) ;; reduced is used to complete reduction early and skip the rest.\n",
    "            []\n",
    "            coll))"
   ]
  },
  {
   "cell_type": "code",
   "execution_count": 76,
   "id": "compressed-charm",
   "metadata": {},
   "outputs": [
    {
     "data": {
      "text/plain": [
       "[1 3 4]"
      ]
     },
     "execution_count": 76,
     "metadata": {},
     "output_type": "execute_result"
    }
   ],
   "source": [
    "(my-take-while pos? [1 3 4 -2 3 -5 7])"
   ]
  },
  {
   "cell_type": "markdown",
   "id": "advanced-pound",
   "metadata": {},
   "source": [
    "- lazy sequence defers execution to a leter time\n",
    "- lazy sequences remember their contents, once evaluated, for faster access"
   ]
  },
  {
   "cell_type": "code",
   "execution_count": 77,
   "id": "imperial-charger",
   "metadata": {},
   "outputs": [
    {
     "data": {
      "text/plain": [
       "false"
      ]
     },
     "execution_count": 77,
     "metadata": {},
     "output_type": "execute_result"
    }
   ],
   "source": [
    "(def infseq (map inc (iterate inc 0)))\n",
    "(realized? infseq)"
   ]
  },
  {
   "cell_type": "code",
   "execution_count": 78,
   "id": "rental-solution",
   "metadata": {},
   "outputs": [
    {
     "data": {
      "text/plain": [
       "(1 2 3 4 5 6 7 8 9 10)"
      ]
     },
     "execution_count": 78,
     "metadata": {},
     "output_type": "execute_result"
    }
   ],
   "source": [
    "(take 10 infseq)"
   ]
  },
  {
   "cell_type": "code",
   "execution_count": 79,
   "id": "alleged-trail",
   "metadata": {},
   "outputs": [
    {
     "data": {
      "text/plain": [
       "true"
      ]
     },
     "execution_count": 79,
     "metadata": {},
     "output_type": "execute_result"
    }
   ],
   "source": [
    "(realized? infseq)"
   ]
  },
  {
   "cell_type": "markdown",
   "id": "lyric-hungarian",
   "metadata": {},
   "source": [
    "### Putting it all together\n",
    "- find the sum of the products of consecutive pairs of the first 1000 odd integers"
   ]
  },
  {
   "cell_type": "code",
   "execution_count": 80,
   "id": "radio-fundamental",
   "metadata": {},
   "outputs": [
    {
     "data": {
      "text/plain": [
       "#'ground-up.ch4/odd-seq"
      ]
     },
     "execution_count": 80,
     "metadata": {},
     "output_type": "execute_result"
    }
   ],
   "source": [
    "(def odd-seq (filter odd? (iterate inc 0)))"
   ]
  },
  {
   "cell_type": "code",
   "execution_count": 81,
   "id": "worthy-mounting",
   "metadata": {},
   "outputs": [
    {
     "data": {
      "text/plain": [
       "1335333000"
      ]
     },
     "execution_count": 81,
     "metadata": {},
     "output_type": "execute_result"
    }
   ],
   "source": [
    "(reduce + (take 1000 (map (fn [[x1 x2]] (* x1 x2)) (partition-all 2 1 odd-seq))))"
   ]
  },
  {
   "cell_type": "markdown",
   "id": "instrumental-accident",
   "metadata": {},
   "source": [
    "- in the above expression, the part that happens first appears deepest\n",
    "- It would be nicer to write it in order"
   ]
  },
  {
   "cell_type": "code",
   "execution_count": 82,
   "id": "substantial-tucson",
   "metadata": {},
   "outputs": [
    {
     "data": {
      "text/plain": [
       "1335333000"
      ]
     },
     "execution_count": 82,
     "metadata": {},
     "output_type": "execute_result"
    }
   ],
   "source": [
    "(->> 0\n",
    "    (iterate inc)\n",
    "    (filter odd?)\n",
    "    (partition 2 1)\n",
    "    (map (fn [[x1 x2]]\n",
    "             (* x1 x2)))\n",
    "    (take 1000)\n",
    "    (reduce +))"
   ]
  },
  {
   "cell_type": "markdown",
   "id": "damaged-discussion",
   "metadata": {},
   "source": [
    "### Problems\n",
    "- 1. write a funciton to find out is a string is a palindrome"
   ]
  },
  {
   "cell_type": "code",
   "execution_count": 83,
   "id": "mathematical-appreciation",
   "metadata": {},
   "outputs": [
    {
     "data": {
      "text/plain": [
       "#'ground-up.ch4/palindrome?"
      ]
     },
     "execution_count": 83,
     "metadata": {},
     "output_type": "execute_result"
    }
   ],
   "source": [
    "(defn palindrome? [string]\n",
    "    (= (seq string) (reverse (seq string))))"
   ]
  },
  {
   "cell_type": "code",
   "execution_count": 84,
   "id": "confused-steam",
   "metadata": {},
   "outputs": [
    {
     "data": {
      "text/plain": [
       "true"
      ]
     },
     "execution_count": 84,
     "metadata": {},
     "output_type": "execute_result"
    }
   ],
   "source": [
    "(palindrome? \"racecar\")"
   ]
  },
  {
   "cell_type": "code",
   "execution_count": 85,
   "id": "confidential-street",
   "metadata": {},
   "outputs": [
    {
     "data": {
      "text/plain": [
       "false"
      ]
     },
     "execution_count": 85,
     "metadata": {},
     "output_type": "execute_result"
    }
   ],
   "source": [
    "(palindrome? \"abc\")"
   ]
  },
  {
   "cell_type": "code",
   "execution_count": 86,
   "id": "colored-liverpool",
   "metadata": {},
   "outputs": [
    {
     "data": {
      "text/plain": [
       "true"
      ]
     },
     "execution_count": 86,
     "metadata": {},
     "output_type": "execute_result"
    }
   ],
   "source": [
    "(palindrome? \"a\")"
   ]
  },
  {
   "cell_type": "code",
   "execution_count": 87,
   "id": "formed-pleasure",
   "metadata": {},
   "outputs": [
    {
     "data": {
      "text/plain": [
       "false"
      ]
     },
     "execution_count": 87,
     "metadata": {},
     "output_type": "execute_result"
    }
   ],
   "source": [
    "(palindrome? \"\") ;; why?"
   ]
  },
  {
   "cell_type": "code",
   "execution_count": 88,
   "id": "pending-apparatus",
   "metadata": {},
   "outputs": [
    {
     "data": {
      "text/plain": [
       "nil"
      ]
     },
     "execution_count": 88,
     "metadata": {},
     "output_type": "execute_result"
    }
   ],
   "source": [
    "(seq \"\")"
   ]
  },
  {
   "cell_type": "code",
   "execution_count": 89,
   "id": "smaller-thermal",
   "metadata": {},
   "outputs": [
    {
     "data": {
      "text/plain": [
       "()"
      ]
     },
     "execution_count": 89,
     "metadata": {},
     "output_type": "execute_result"
    }
   ],
   "source": [
    "(reverse (seq \"\"))"
   ]
  },
  {
   "cell_type": "code",
   "execution_count": 90,
   "id": "educated-pierre",
   "metadata": {},
   "outputs": [
    {
     "data": {
      "text/plain": [
       "#'ground-up.ch4/palindrome?"
      ]
     },
     "execution_count": 90,
     "metadata": {},
     "output_type": "execute_result"
    }
   ],
   "source": [
    ";; a better version would be \n",
    "(defn palindrome? [string]\n",
    "    (= (sequence string) (reverse (sequence string))))"
   ]
  },
  {
   "cell_type": "code",
   "execution_count": 91,
   "id": "liquid-roads",
   "metadata": {},
   "outputs": [
    {
     "data": {
      "text/plain": [
       "true"
      ]
     },
     "execution_count": 91,
     "metadata": {},
     "output_type": "execute_result"
    }
   ],
   "source": [
    "(palindrome? \"\")"
   ]
  },
  {
   "cell_type": "markdown",
   "id": "fundamental-bridge",
   "metadata": {},
   "source": [
    "- 2. Find the number of 'c's in \"abracadabra\""
   ]
  },
  {
   "cell_type": "code",
   "execution_count": 92,
   "id": "documentary-barrier",
   "metadata": {},
   "outputs": [
    {
     "data": {
      "text/plain": [
       "1"
      ]
     },
     "execution_count": 92,
     "metadata": {},
     "output_type": "execute_result"
    }
   ],
   "source": [
    "(count (filter (fn [ch] (= ch \\c)) \"abracadabra\"))"
   ]
  },
  {
   "cell_type": "markdown",
   "id": "patent-permit",
   "metadata": {},
   "source": [
    "- 3. Write your own version of `filter`"
   ]
  },
  {
   "cell_type": "code",
   "execution_count": 93,
   "id": "clean-chassis",
   "metadata": {},
   "outputs": [
    {
     "data": {
      "text/plain": [
       "#'ground-up.ch4/my-filter"
      ]
     },
     "execution_count": 93,
     "metadata": {},
     "output_type": "execute_result"
    }
   ],
   "source": [
    "(defn my-filter [f coll]\n",
    "    (reduce (fn [xs x]\n",
    "                (if (f x)\n",
    "                    (conj xs x)\n",
    "                    xs))\n",
    "            []\n",
    "            coll))"
   ]
  },
  {
   "cell_type": "code",
   "execution_count": 94,
   "id": "incoming-thumbnail",
   "metadata": {},
   "outputs": [
    {
     "data": {
      "text/plain": [
       "[1 3 4 3 7]"
      ]
     },
     "execution_count": 94,
     "metadata": {},
     "output_type": "execute_result"
    }
   ],
   "source": [
    "(my-filter pos? [1 3 4 -2 3 -5 7])"
   ]
  },
  {
   "cell_type": "markdown",
   "id": "reported-google",
   "metadata": {},
   "source": [
    "- 4. Find the first 100 prime numbers"
   ]
  },
  {
   "cell_type": "code",
   "execution_count": 95,
   "id": "exceptional-slave",
   "metadata": {},
   "outputs": [
    {
     "data": {
      "text/plain": [
       "#'ground-up.ch4/x"
      ]
     },
     "execution_count": 95,
     "metadata": {},
     "output_type": "execute_result"
    }
   ],
   "source": [
    "(def x 10)"
   ]
  },
  {
   "cell_type": "code",
   "execution_count": 96,
   "id": "medium-preference",
   "metadata": {},
   "outputs": [
    {
     "data": {
      "text/plain": [
       "(2 3 4)"
      ]
     },
     "execution_count": 96,
     "metadata": {},
     "output_type": "execute_result"
    }
   ],
   "source": [
    "(range 2 (inc (Math/sqrt x)))"
   ]
  },
  {
   "cell_type": "code",
   "execution_count": 97,
   "id": "fifty-edwards",
   "metadata": {},
   "outputs": [
    {
     "data": {
      "text/plain": [
       "(2)"
      ]
     },
     "execution_count": 97,
     "metadata": {},
     "output_type": "execute_result"
    }
   ],
   "source": [
    "(filter (fn [e] (zero? (rem x e)))\n",
    "        (range 2 (inc (Math/sqrt x))))"
   ]
  },
  {
   "cell_type": "code",
   "execution_count": 98,
   "id": "sublime-hurricane",
   "metadata": {},
   "outputs": [
    {
     "data": {
      "text/plain": [
       "false"
      ]
     },
     "execution_count": 98,
     "metadata": {},
     "output_type": "execute_result"
    }
   ],
   "source": [
    "(nil? (first (filter (fn [e] (zero? (rem x e)))\n",
    "                     (range 2 (inc (Math/sqrt x))))))"
   ]
  },
  {
   "cell_type": "code",
   "execution_count": 99,
   "id": "british-journalism",
   "metadata": {},
   "outputs": [
    {
     "data": {
      "text/plain": [
       "#'ground-up.ch4/prime?"
      ]
     },
     "execution_count": 99,
     "metadata": {},
     "output_type": "execute_result"
    }
   ],
   "source": [
    "(defn prime? [x]\n",
    "    (nil? (first (filter (fn [e] (zero? (rem x e)))\n",
    "                         (range 2 (inc (Math/sqrt x)))))))"
   ]
  },
  {
   "cell_type": "code",
   "execution_count": 100,
   "id": "velvet-banks",
   "metadata": {},
   "outputs": [
    {
     "data": {
      "text/plain": [
       "true"
      ]
     },
     "execution_count": 100,
     "metadata": {},
     "output_type": "execute_result"
    }
   ],
   "source": [
    "(prime? 3)"
   ]
  },
  {
   "cell_type": "code",
   "execution_count": 101,
   "id": "reflected-madonna",
   "metadata": {},
   "outputs": [
    {
     "data": {
      "text/plain": [
       "false"
      ]
     },
     "execution_count": 101,
     "metadata": {},
     "output_type": "execute_result"
    }
   ],
   "source": [
    "(prime? 4)"
   ]
  },
  {
   "cell_type": "code",
   "execution_count": 102,
   "id": "warming-peripheral",
   "metadata": {},
   "outputs": [
    {
     "data": {
      "text/plain": [
       "false"
      ]
     },
     "execution_count": 102,
     "metadata": {},
     "output_type": "execute_result"
    }
   ],
   "source": [
    "(prime? 2)"
   ]
  },
  {
   "cell_type": "code",
   "execution_count": 103,
   "id": "hundred-stadium",
   "metadata": {},
   "outputs": [
    {
     "data": {
      "text/plain": [
       "(2 3 5 7 11 13 17 19 23 29 31 37 41 43 47 53 59 61 67 71 73 79 83 89 97 101 103 107 109 113 127 131 137 139 149 151 157 163 167 173 179 181 191 193 197 199 211 223 227 229 233 239 241 251 257 263 269 271 277 281 283 293 307 311 313 317 331 337 347 349 353 359 367 373 379 383 389 397 401 409 419 421 431 433 439 443 449 457 461 463 467 479 487 491 499 503 509 521 523 541)"
      ]
     },
     "execution_count": 103,
     "metadata": {},
     "output_type": "execute_result"
    }
   ],
   "source": [
    ";; finally we have \n",
    "(cons 2 (take 99 (filter prime? (iterate inc 3))))"
   ]
  },
  {
   "cell_type": "code",
   "execution_count": 104,
   "id": "contrary-margin",
   "metadata": {},
   "outputs": [
    {
     "data": {
      "text/plain": [
       "(2 3 5 7 11 13 17 19 23 29 31 37 41 43 47 53 59 61 67 71 73 79 83 89 97 101 103 107 109 113 127 131 137 139 149 151 157 163 167 173 179 181 191 193 197 199 211 223 227 229 233 239 241 251 257 263 269 271 277 281 283 293 307 311 313 317 331 337 347 349 353 359 367 373 379 383 389 397 401 409 419 421 431 433 439 443 449 457 461 463 467 479 487 491 499 503 509 521 523 541)"
      ]
     },
     "execution_count": 104,
     "metadata": {},
     "output_type": "execute_result"
    }
   ],
   "source": [
    ";; or\n",
    "(conj (take 99 (filter prime? (iterate inc 3))) 2)"
   ]
  },
  {
   "cell_type": "code",
   "execution_count": null,
   "id": "noticed-origin",
   "metadata": {},
   "outputs": [],
   "source": []
  }
 ],
 "metadata": {
  "kernelspec": {
   "display_name": "Clojure (clojupyter=0.3.2=1)",
   "language": "clojure",
   "name": "conda-clojupyter"
  },
  "language_info": {
   "file_extension": ".clj",
   "mimetype": "text/x-clojure",
   "name": "clojure",
   "version": "1.10.1"
  }
 },
 "nbformat": 4,
 "nbformat_minor": 5
}
