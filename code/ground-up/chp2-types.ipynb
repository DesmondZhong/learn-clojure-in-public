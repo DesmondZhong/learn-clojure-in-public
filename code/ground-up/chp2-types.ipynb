{
 "cells": [
  {
   "cell_type": "code",
   "execution_count": 1,
   "id": "moderate-reception",
   "metadata": {},
   "outputs": [
    {
     "data": {
      "text/plain": [
       "nil"
      ]
     },
     "execution_count": 1,
     "metadata": {},
     "output_type": "execute_result"
    }
   ],
   "source": [
    "(ns ground-up.ch2)"
   ]
  },
  {
   "cell_type": "markdown",
   "id": "pointed-vault",
   "metadata": {},
   "source": [
    "### Integers"
   ]
  },
  {
   "cell_type": "code",
   "execution_count": 2,
   "id": "declared-liechtenstein",
   "metadata": {},
   "outputs": [
    {
     "data": {
      "text/plain": [
       "java.lang.Long"
      ]
     },
     "execution_count": 2,
     "metadata": {},
     "output_type": "execute_result"
    }
   ],
   "source": [
    "(type 3)"
   ]
  },
  {
   "cell_type": "markdown",
   "id": "superb-legislation",
   "metadata": {},
   "source": [
    "- Long, internally are represented as a group of 64-bit binary digits\n",
    "- one bit to store the sign and 63 bits to represent the size of the number\n",
    "- use BigInt (a clojure type) to store really big numbers (arbitrary-precision integer)"
   ]
  },
  {
   "cell_type": "code",
   "execution_count": 3,
   "id": "instant-protest",
   "metadata": {},
   "outputs": [
    {
     "data": {
      "text/plain": [
       "9223372036854775807"
      ]
     },
     "execution_count": 3,
     "metadata": {},
     "output_type": "execute_result"
    }
   ],
   "source": [
    ";; 2^63 -1\n",
    "Long/MAX_VALUE"
   ]
  },
  {
   "cell_type": "code",
   "execution_count": 4,
   "id": "studied-conclusion",
   "metadata": {},
   "outputs": [
    {
     "name": "stderr",
     "output_type": "stream",
     "text": [
      "Execution error (ArithmeticException) at ground-up.ch2/eval4108 (REPL:1).\n",
      "integer overflow\n"
     ]
    },
    {
     "ename": "class java.lang.ArithmeticException",
     "evalue": "",
     "output_type": "error",
     "traceback": [
      "Numbers.java:  1576 clojure.lang.Numbers/throwIntOverflow",
      "Numbers.java:  1932 clojure.lang.Numbers/inc",
      "    core.clj:  3214 clojure.core$eval/invokeStatic",
      "    core.clj:  3210 clojure.core$eval/invoke",
      "    main.clj:   437 clojure.main$repl$read_eval_print__9086$fn__9089/invoke",
      "    main.clj:   458 clojure.main$repl$fn__9095/invoke",
      "    main.clj:   368 clojure.main$repl/doInvoke",
      " RestFn.java:  1523 clojure.lang.RestFn/invoke",
      "    AFn.java:    22 clojure.lang.AFn/run",
      "    AFn.java:    22 clojure.lang.AFn/run",
      " Thread.java:   745 java.lang.Thread/run"
     ]
    }
   ],
   "source": [
    "(inc Long/MAX_VALUE)"
   ]
  },
  {
   "cell_type": "code",
   "execution_count": 5,
   "id": "administrative-rotation",
   "metadata": {},
   "outputs": [
    {
     "data": {
      "text/plain": [
       "9223372036854775808N"
      ]
     },
     "execution_count": 5,
     "metadata": {},
     "output_type": "execute_result"
    }
   ],
   "source": [
    "(inc (bigint Long/MAX_VALUE))"
   ]
  },
  {
   "cell_type": "code",
   "execution_count": 6,
   "id": "legendary-fundamentals",
   "metadata": {},
   "outputs": [
    {
     "data": {
      "text/plain": [
       "clojure.lang.BigInt"
      ]
     },
     "execution_count": 6,
     "metadata": {},
     "output_type": "execute_result"
    }
   ],
   "source": [
    "(type 5N)"
   ]
  },
  {
   "cell_type": "code",
   "execution_count": 7,
   "id": "spectacular-mailman",
   "metadata": {},
   "outputs": [
    {
     "data": {
      "text/plain": [
       "java.lang.Integer"
      ]
     },
     "execution_count": 7,
     "metadata": {},
     "output_type": "execute_result"
    }
   ],
   "source": [
    "(type (int 0)) ;; 32 bits"
   ]
  },
  {
   "cell_type": "code",
   "execution_count": 8,
   "id": "enabling-documentation",
   "metadata": {},
   "outputs": [
    {
     "data": {
      "text/plain": [
       "2147483647"
      ]
     },
     "execution_count": 8,
     "metadata": {},
     "output_type": "execute_result"
    }
   ],
   "source": [
    ";; 2^31 - 1\n",
    "Integer/MAX_VALUE"
   ]
  },
  {
   "cell_type": "code",
   "execution_count": 9,
   "id": "organic-lambda",
   "metadata": {},
   "outputs": [
    {
     "data": {
      "text/plain": [
       "java.lang.Short"
      ]
     },
     "execution_count": 9,
     "metadata": {},
     "output_type": "execute_result"
    }
   ],
   "source": [
    "(type (short 0)) ;; 16 bits"
   ]
  },
  {
   "cell_type": "code",
   "execution_count": 10,
   "id": "hydraulic-peripheral",
   "metadata": {},
   "outputs": [
    {
     "data": {
      "text/plain": [
       "32767"
      ]
     },
     "execution_count": 10,
     "metadata": {},
     "output_type": "execute_result"
    }
   ],
   "source": [
    ";; 2^15 - 1\n",
    "Short/MAX_VALUE"
   ]
  },
  {
   "cell_type": "code",
   "execution_count": 11,
   "id": "signed-graham",
   "metadata": {},
   "outputs": [
    {
     "data": {
      "text/plain": [
       "java.lang.Byte"
      ]
     },
     "execution_count": 11,
     "metadata": {},
     "output_type": "execute_result"
    }
   ],
   "source": [
    "(type (byte 0)) ;; 8 bits"
   ]
  },
  {
   "cell_type": "code",
   "execution_count": 12,
   "id": "creative-directive",
   "metadata": {},
   "outputs": [
    {
     "data": {
      "text/plain": [
       "127"
      ]
     },
     "execution_count": 12,
     "metadata": {},
     "output_type": "execute_result"
    }
   ],
   "source": [
    ";; 2^7 - 1\n",
    "Byte/MAX_VALUE"
   ]
  },
  {
   "cell_type": "markdown",
   "id": "tamil-starter",
   "metadata": {},
   "source": [
    "### Fractional numbers\n",
    "- Floats use 32 bits\n",
    "- Double use 64 bits\n",
    "- Doubles are the default in Clojure"
   ]
  },
  {
   "cell_type": "code",
   "execution_count": 13,
   "id": "boxed-pixel",
   "metadata": {},
   "outputs": [
    {
     "data": {
      "text/plain": [
       "java.lang.Double"
      ]
     },
     "execution_count": 13,
     "metadata": {},
     "output_type": "execute_result"
    }
   ],
   "source": [
    "(type 1.23)"
   ]
  },
  {
   "cell_type": "code",
   "execution_count": 14,
   "id": "commercial-adams",
   "metadata": {},
   "outputs": [
    {
     "data": {
      "text/plain": [
       "java.lang.Float"
      ]
     },
     "execution_count": 14,
     "metadata": {},
     "output_type": "execute_result"
    }
   ],
   "source": [
    "(type (float 1.23))"
   ]
  },
  {
   "cell_type": "code",
   "execution_count": 15,
   "id": "center-azerbaijan",
   "metadata": {},
   "outputs": [
    {
     "data": {
      "text/plain": [
       "1.0"
      ]
     },
     "execution_count": 15,
     "metadata": {},
     "output_type": "execute_result"
    }
   ],
   "source": [
    ";; floats and doubles are approximations\n",
    "0.9999999999999999999999999"
   ]
  },
  {
   "cell_type": "code",
   "execution_count": 16,
   "id": "daily-sewing",
   "metadata": {},
   "outputs": [
    {
     "data": {
      "text/plain": [
       "clojure.lang.Ratio"
      ]
     },
     "execution_count": 16,
     "metadata": {},
     "output_type": "execute_result"
    }
   ],
   "source": [
    ";; exact fraction\n",
    "(type 1/3)"
   ]
  },
  {
   "cell_type": "code",
   "execution_count": 17,
   "id": "junior-liabilities",
   "metadata": {},
   "outputs": [
    {
     "data": {
      "text/plain": [
       "3"
      ]
     },
     "execution_count": 17,
     "metadata": {},
     "output_type": "execute_result"
    }
   ],
   "source": [
    "(+ 1 2)"
   ]
  },
  {
   "cell_type": "code",
   "execution_count": 18,
   "id": "elder-immunology",
   "metadata": {},
   "outputs": [
    {
     "data": {
      "text/plain": [
       "3.0"
      ]
     },
     "execution_count": 18,
     "metadata": {},
     "output_type": "execute_result"
    }
   ],
   "source": [
    "(+ 1 2.0)"
   ]
  },
  {
   "cell_type": "code",
   "execution_count": 19,
   "id": "matched-bundle",
   "metadata": {},
   "outputs": [
    {
     "data": {
      "text/plain": [
       "false"
      ]
     },
     "execution_count": 19,
     "metadata": {},
     "output_type": "execute_result"
    }
   ],
   "source": [
    ";; floats are approximations\n",
    "(= 3 3.0)"
   ]
  },
  {
   "cell_type": "code",
   "execution_count": 20,
   "id": "distributed-throw",
   "metadata": {},
   "outputs": [
    {
     "data": {
      "text/plain": [
       "true"
      ]
     },
     "execution_count": 20,
     "metadata": {},
     "output_type": "execute_result"
    }
   ],
   "source": [
    ";; == compares things more loosely!\n",
    "(== 3 3.0)"
   ]
  },
  {
   "cell_type": "markdown",
   "id": "polyphonic-aruba",
   "metadata": {},
   "source": [
    "- operations with multiple numbers\n",
    "- operations with a single number\n",
    "- we can also add or multiply a list of no numbers at all, obtaining the additive and multiplicative identities. How does it help us reason about higher-level numeric operations?"
   ]
  },
  {
   "cell_type": "code",
   "execution_count": 21,
   "id": "effective-system",
   "metadata": {},
   "outputs": [
    {
     "data": {
      "text/plain": [
       "6/5"
      ]
     },
     "execution_count": 21,
     "metadata": {},
     "output_type": "execute_result"
    }
   ],
   "source": [
    "(* 2 3 1/5)"
   ]
  },
  {
   "cell_type": "code",
   "execution_count": 22,
   "id": "inclusive-alberta",
   "metadata": {},
   "outputs": [
    {
     "data": {
      "text/plain": [
       "2"
      ]
     },
     "execution_count": 22,
     "metadata": {},
     "output_type": "execute_result"
    }
   ],
   "source": [
    "(- 5 1 1 1)"
   ]
  },
  {
   "cell_type": "code",
   "execution_count": 23,
   "id": "stupid-advisory",
   "metadata": {},
   "outputs": [
    {
     "data": {
      "text/plain": [
       "4"
      ]
     },
     "execution_count": 23,
     "metadata": {},
     "output_type": "execute_result"
    }
   ],
   "source": [
    "(/ 24 3 2)"
   ]
  },
  {
   "cell_type": "code",
   "execution_count": 24,
   "id": "imported-valuable",
   "metadata": {},
   "outputs": [
    {
     "data": {
      "text/plain": [
       "2"
      ]
     },
     "execution_count": 24,
     "metadata": {},
     "output_type": "execute_result"
    }
   ],
   "source": [
    "(+ 2)"
   ]
  },
  {
   "cell_type": "code",
   "execution_count": 25,
   "id": "adverse-department",
   "metadata": {},
   "outputs": [
    {
     "data": {
      "text/plain": [
       "0"
      ]
     },
     "execution_count": 25,
     "metadata": {},
     "output_type": "execute_result"
    }
   ],
   "source": [
    "(+)"
   ]
  },
  {
   "cell_type": "markdown",
   "id": "educated-tampa",
   "metadata": {},
   "source": [
    "- compare which one is bigger"
   ]
  },
  {
   "cell_type": "code",
   "execution_count": 26,
   "id": "reasonable-bench",
   "metadata": {},
   "outputs": [
    {
     "data": {
      "text/plain": [
       "true"
      ]
     },
     "execution_count": 26,
     "metadata": {},
     "output_type": "execute_result"
    }
   ],
   "source": [
    "(<= 1 2 3)"
   ]
  },
  {
   "cell_type": "code",
   "execution_count": 27,
   "id": "biblical-vietnam",
   "metadata": {},
   "outputs": [
    {
     "data": {
      "text/plain": [
       "false"
      ]
     },
     "execution_count": 27,
     "metadata": {},
     "output_type": "execute_result"
    }
   ],
   "source": [
    "(<= 1 3 2)"
   ]
  },
  {
   "cell_type": "code",
   "execution_count": 28,
   "id": "competent-worry",
   "metadata": {},
   "outputs": [
    {
     "data": {
      "text/plain": [
       "false"
      ]
     },
     "execution_count": 28,
     "metadata": {},
     "output_type": "execute_result"
    }
   ],
   "source": [
    "(< 1 2 2)"
   ]
  },
  {
   "cell_type": "code",
   "execution_count": 29,
   "id": "accessory-bedroom",
   "metadata": {},
   "outputs": [
    {
     "data": {
      "text/plain": [
       "6"
      ]
     },
     "execution_count": 29,
     "metadata": {},
     "output_type": "execute_result"
    }
   ],
   "source": [
    "(inc 5)"
   ]
  },
  {
   "cell_type": "code",
   "execution_count": 30,
   "id": "prostate-biotechnology",
   "metadata": {},
   "outputs": [
    {
     "data": {
      "text/plain": [
       "5"
      ]
     },
     "execution_count": 30,
     "metadata": {},
     "output_type": "execute_result"
    }
   ],
   "source": [
    "(dec 6)"
   ]
  },
  {
   "cell_type": "code",
   "execution_count": 31,
   "id": "serial-hours",
   "metadata": {},
   "outputs": [
    {
     "data": {
      "text/plain": [
       "true"
      ]
     },
     "execution_count": 31,
     "metadata": {},
     "output_type": "execute_result"
    }
   ],
   "source": [
    "(= 2 2 2)"
   ]
  },
  {
   "cell_type": "code",
   "execution_count": 32,
   "id": "champion-monroe",
   "metadata": {},
   "outputs": [
    {
     "data": {
      "text/plain": [
       "false"
      ]
     },
     "execution_count": 32,
     "metadata": {},
     "output_type": "execute_result"
    }
   ],
   "source": [
    "(= 2 2 3)"
   ]
  },
  {
   "cell_type": "markdown",
   "id": "limited-infrared",
   "metadata": {},
   "source": [
    "### Strings\n",
    "- strings are texts, surrounded by double quotes"
   ]
  },
  {
   "cell_type": "code",
   "execution_count": 33,
   "id": "revolutionary-modification",
   "metadata": {},
   "outputs": [
    {
     "data": {
      "text/plain": [
       "java.lang.String"
      ]
     },
     "execution_count": 33,
     "metadata": {},
     "output_type": "execute_result"
    }
   ],
   "source": [
    "(type \"cat\")"
   ]
  },
  {
   "cell_type": "markdown",
   "id": "minimal-camel",
   "metadata": {},
   "source": [
    "- we can make almost anything into a string with `str`.\n",
    "- Note that `nil`'s string represesntation is `\"\"`."
   ]
  },
  {
   "cell_type": "code",
   "execution_count": 34,
   "id": "invalid-railway",
   "metadata": {},
   "outputs": [
    {
     "data": {
      "text/plain": [
       "\"cat\""
      ]
     },
     "execution_count": 34,
     "metadata": {},
     "output_type": "execute_result"
    }
   ],
   "source": [
    "(str \"cat\")"
   ]
  },
  {
   "cell_type": "code",
   "execution_count": 35,
   "id": "brazilian-russia",
   "metadata": {},
   "outputs": [
    {
     "data": {
      "text/plain": [
       "\"cat\""
      ]
     },
     "execution_count": 35,
     "metadata": {},
     "output_type": "execute_result"
    }
   ],
   "source": [
    "(str 'cat)"
   ]
  },
  {
   "cell_type": "code",
   "execution_count": 36,
   "id": "decent-physiology",
   "metadata": {},
   "outputs": [
    {
     "data": {
      "text/plain": [
       "\"1\""
      ]
     },
     "execution_count": 36,
     "metadata": {},
     "output_type": "execute_result"
    }
   ],
   "source": [
    "(str 1)"
   ]
  },
  {
   "cell_type": "code",
   "execution_count": 37,
   "id": "paperback-europe",
   "metadata": {},
   "outputs": [
    {
     "data": {
      "text/plain": [
       "\"true\""
      ]
     },
     "execution_count": 37,
     "metadata": {},
     "output_type": "execute_result"
    }
   ],
   "source": [
    "(str true)"
   ]
  },
  {
   "cell_type": "code",
   "execution_count": 38,
   "id": "great-maple",
   "metadata": {},
   "outputs": [
    {
     "data": {
      "text/plain": [
       "\"(1 2 3)\""
      ]
     },
     "execution_count": 38,
     "metadata": {},
     "output_type": "execute_result"
    }
   ],
   "source": [
    "(str '(1 2 3))"
   ]
  },
  {
   "cell_type": "code",
   "execution_count": 39,
   "id": "effective-sterling",
   "metadata": {},
   "outputs": [
    {
     "data": {
      "text/plain": [
       "\"\""
      ]
     },
     "execution_count": 39,
     "metadata": {},
     "output_type": "execute_result"
    }
   ],
   "source": [
    "(str nil)"
   ]
  },
  {
   "cell_type": "markdown",
   "id": "automatic-trauma",
   "metadata": {},
   "source": [
    "- `str` can also concatenate things"
   ]
  },
  {
   "cell_type": "code",
   "execution_count": 40,
   "id": "surgical-zambia",
   "metadata": {},
   "outputs": [
    {
     "data": {
      "text/plain": [
       "\"meow 3 times\""
      ]
     },
     "execution_count": 40,
     "metadata": {},
     "output_type": "execute_result"
    }
   ],
   "source": [
    "(str \"meow \" 3 \" times\")"
   ]
  },
  {
   "cell_type": "markdown",
   "id": "knowing-treatment",
   "metadata": {},
   "source": [
    "- regular expression look for patterns in text. "
   ]
  },
  {
   "cell_type": "code",
   "execution_count": 41,
   "id": "seasonal-consideration",
   "metadata": {},
   "outputs": [
    {
     "data": {
      "text/plain": [
       "\"cat\""
      ]
     },
     "execution_count": 41,
     "metadata": {},
     "output_type": "execute_result"
    }
   ],
   "source": [
    "(re-find #\"cat\" \"mystic cat mouse\")"
   ]
  },
  {
   "cell_type": "code",
   "execution_count": 42,
   "id": "given-university",
   "metadata": {},
   "outputs": [
    {
     "data": {
      "text/plain": [
       "nil"
      ]
     },
     "execution_count": 42,
     "metadata": {},
     "output_type": "execute_result"
    }
   ],
   "source": [
    "(re-find #\"cat\" \"only dogs here\")"
   ]
  },
  {
   "cell_type": "code",
   "execution_count": 43,
   "id": "banner-kuwait",
   "metadata": {},
   "outputs": [
    {
     "data": {
      "text/plain": [
       "[\"mouse:treat\" \"mouse\" \"treat\"]"
      ]
     },
     "execution_count": 43,
     "metadata": {},
     "output_type": "execute_result"
    }
   ],
   "source": [
    ";; find two strings, separated by a :\n",
    "(re-matches #\"(.+):(.+)\" \"mouse:treat\")"
   ]
  },
  {
   "cell_type": "code",
   "execution_count": 44,
   "id": "binary-sacrifice",
   "metadata": {},
   "outputs": [
    {
     "data": {
      "text/plain": [
       "(\"mouse\" \"treat\")"
      ]
     },
     "execution_count": 44,
     "metadata": {},
     "output_type": "execute_result"
    }
   ],
   "source": [
    "(rest (re-matches #\"(.+):(.+)\" \"mouse:treat\"))"
   ]
  },
  {
   "cell_type": "markdown",
   "id": "capable-rally",
   "metadata": {},
   "source": [
    "### Booleans and logic\n",
    "- only `false` and `nil` are negative, every other value in Clojure is positive"
   ]
  },
  {
   "cell_type": "code",
   "execution_count": 45,
   "id": "sweet-structure",
   "metadata": {},
   "outputs": [
    {
     "data": {
      "text/plain": [
       "true"
      ]
     },
     "execution_count": 45,
     "metadata": {},
     "output_type": "execute_result"
    }
   ],
   "source": [
    "(boolean true)"
   ]
  },
  {
   "cell_type": "code",
   "execution_count": 46,
   "id": "cardiovascular-society",
   "metadata": {},
   "outputs": [
    {
     "data": {
      "text/plain": [
       "false"
      ]
     },
     "execution_count": 46,
     "metadata": {},
     "output_type": "execute_result"
    }
   ],
   "source": [
    "(boolean false)"
   ]
  },
  {
   "cell_type": "code",
   "execution_count": 47,
   "id": "coordinated-freeware",
   "metadata": {},
   "outputs": [
    {
     "data": {
      "text/plain": [
       "false"
      ]
     },
     "execution_count": 47,
     "metadata": {},
     "output_type": "execute_result"
    }
   ],
   "source": [
    "(boolean nil)"
   ]
  },
  {
   "cell_type": "code",
   "execution_count": 48,
   "id": "tamil-sheet",
   "metadata": {},
   "outputs": [
    {
     "data": {
      "text/plain": [
       "true"
      ]
     },
     "execution_count": 48,
     "metadata": {},
     "output_type": "execute_result"
    }
   ],
   "source": [
    "(boolean 0)"
   ]
  },
  {
   "cell_type": "code",
   "execution_count": 49,
   "id": "accurate-aquarium",
   "metadata": {},
   "outputs": [
    {
     "data": {
      "text/plain": [
       "true"
      ]
     },
     "execution_count": 49,
     "metadata": {},
     "output_type": "execute_result"
    }
   ],
   "source": [
    "(boolean 1)"
   ]
  },
  {
   "cell_type": "code",
   "execution_count": 50,
   "id": "coordinate-volume",
   "metadata": {},
   "outputs": [
    {
     "data": {
      "text/plain": [
       "true"
      ]
     },
     "execution_count": 50,
     "metadata": {},
     "output_type": "execute_result"
    }
   ],
   "source": [
    "(boolean str)"
   ]
  },
  {
   "cell_type": "markdown",
   "id": "representative-isolation",
   "metadata": {},
   "source": [
    "- `and` returns the first negative value, or the last value if all are truthy."
   ]
  },
  {
   "cell_type": "code",
   "execution_count": 51,
   "id": "detailed-spider",
   "metadata": {},
   "outputs": [
    {
     "data": {
      "text/plain": [
       "false"
      ]
     },
     "execution_count": 51,
     "metadata": {},
     "output_type": "execute_result"
    }
   ],
   "source": [
    "(and true false false)"
   ]
  },
  {
   "cell_type": "code",
   "execution_count": 52,
   "id": "protected-apartment",
   "metadata": {},
   "outputs": [
    {
     "data": {
      "text/plain": [
       "true"
      ]
     },
     "execution_count": 52,
     "metadata": {},
     "output_type": "execute_result"
    }
   ],
   "source": [
    "(and true true true)"
   ]
  },
  {
   "cell_type": "code",
   "execution_count": 53,
   "id": "basic-carnival",
   "metadata": {},
   "outputs": [
    {
     "data": {
      "text/plain": [
       "3"
      ]
     },
     "execution_count": 53,
     "metadata": {},
     "output_type": "execute_result"
    }
   ],
   "source": [
    "(and 1 2 3)"
   ]
  },
  {
   "cell_type": "markdown",
   "id": "vanilla-minnesota",
   "metadata": {},
   "source": [
    "- `or` returns the first positive value, or the last value if all are falsey."
   ]
  },
  {
   "cell_type": "code",
   "execution_count": 54,
   "id": "excellent-coupon",
   "metadata": {},
   "outputs": [
    {
     "data": {
      "text/plain": [
       "2"
      ]
     },
     "execution_count": 54,
     "metadata": {},
     "output_type": "execute_result"
    }
   ],
   "source": [
    "(or false 2 3)"
   ]
  },
  {
   "cell_type": "code",
   "execution_count": 55,
   "id": "changing-poker",
   "metadata": {},
   "outputs": [
    {
     "data": {
      "text/plain": [
       "nil"
      ]
     },
     "execution_count": 55,
     "metadata": {},
     "output_type": "execute_result"
    }
   ],
   "source": [
    "(or false nil)"
   ]
  },
  {
   "cell_type": "markdown",
   "id": "quick-guatemala",
   "metadata": {},
   "source": [
    "- `not` inverts the logical sense"
   ]
  },
  {
   "cell_type": "code",
   "execution_count": 56,
   "id": "competitive-biodiversity",
   "metadata": {},
   "outputs": [
    {
     "data": {
      "text/plain": [
       "false"
      ]
     },
     "execution_count": 56,
     "metadata": {},
     "output_type": "execute_result"
    }
   ],
   "source": [
    "(not 2)"
   ]
  },
  {
   "cell_type": "code",
   "execution_count": 57,
   "id": "quarterly-business",
   "metadata": {},
   "outputs": [
    {
     "data": {
      "text/plain": [
       "true"
      ]
     },
     "execution_count": 57,
     "metadata": {},
     "output_type": "execute_result"
    }
   ],
   "source": [
    "(not nil)"
   ]
  },
  {
   "cell_type": "markdown",
   "id": "handed-belly",
   "metadata": {},
   "source": [
    "### Symbols\n",
    "- bare strings of characters\n",
    "- have either short or full names\n",
    "- short names are used to refer to things locally\n",
    "- fully qualified name is used to refere unambiguously to a symbol from anywhere\n",
    "- symbol names are separated with a `/`"
   ]
  },
  {
   "cell_type": "code",
   "execution_count": 58,
   "id": "impressive-lease",
   "metadata": {},
   "outputs": [
    {
     "data": {
      "text/plain": [
       "clojure.lang.Symbol"
      ]
     },
     "execution_count": 58,
     "metadata": {},
     "output_type": "execute_result"
    }
   ],
   "source": [
    "(type 'str)"
   ]
  },
  {
   "cell_type": "code",
   "execution_count": 59,
   "id": "confused-memphis",
   "metadata": {},
   "outputs": [
    {
     "data": {
      "text/plain": [
       "clojure.lang.Symbol"
      ]
     },
     "execution_count": 59,
     "metadata": {},
     "output_type": "execute_result"
    }
   ],
   "source": [
    "(class 'str)"
   ]
  },
  {
   "cell_type": "code",
   "execution_count": 60,
   "id": "aquatic-calendar",
   "metadata": {},
   "outputs": [
    {
     "data": {
      "text/plain": [
       "clojure.lang.Symbol"
      ]
     },
     "execution_count": 60,
     "metadata": {},
     "output_type": "execute_result"
    }
   ],
   "source": [
    "(type 'r)"
   ]
  },
  {
   "cell_type": "code",
   "execution_count": 61,
   "id": "painful-special",
   "metadata": {},
   "outputs": [
    {
     "data": {
      "text/plain": [
       "\"r\""
      ]
     },
     "execution_count": 61,
     "metadata": {},
     "output_type": "execute_result"
    }
   ],
   "source": [
    "(str 'r)"
   ]
  },
  {
   "cell_type": "code",
   "execution_count": 62,
   "id": "green-watch",
   "metadata": {},
   "outputs": [
    {
     "data": {
      "text/plain": [
       "true"
      ]
     },
     "execution_count": 62,
     "metadata": {},
     "output_type": "execute_result"
    }
   ],
   "source": [
    "(= str clojure.core/str)"
   ]
  },
  {
   "cell_type": "code",
   "execution_count": 63,
   "id": "appropriate-customer",
   "metadata": {},
   "outputs": [
    {
     "data": {
      "text/plain": [
       "false"
      ]
     },
     "execution_count": 63,
     "metadata": {},
     "output_type": "execute_result"
    }
   ],
   "source": [
    "(= 'str clojure.core/str) ;; ???"
   ]
  },
  {
   "cell_type": "code",
   "execution_count": 64,
   "id": "funded-grain",
   "metadata": {},
   "outputs": [
    {
     "data": {
      "text/plain": [
       "false"
      ]
     },
     "execution_count": 64,
     "metadata": {},
     "output_type": "execute_result"
    }
   ],
   "source": [
    "(= 'str 'clojure.core/str) ;; ???"
   ]
  },
  {
   "cell_type": "code",
   "execution_count": 65,
   "id": "executed-opening",
   "metadata": {},
   "outputs": [
    {
     "data": {
      "text/plain": [
       "\"str\""
      ]
     },
     "execution_count": 65,
     "metadata": {},
     "output_type": "execute_result"
    }
   ],
   "source": [
    "(name 'str)"
   ]
  },
  {
   "cell_type": "code",
   "execution_count": 66,
   "id": "opened-hollow",
   "metadata": {},
   "outputs": [
    {
     "data": {
      "text/plain": [
       "\"str\""
      ]
     },
     "execution_count": 66,
     "metadata": {},
     "output_type": "execute_result"
    }
   ],
   "source": [
    "(name 'clojure.core/str)"
   ]
  },
  {
   "cell_type": "code",
   "execution_count": 67,
   "id": "casual-ebony",
   "metadata": {},
   "outputs": [
    {
     "name": "stderr",
     "output_type": "stream",
     "text": [
      "Execution error (ClassCastException) at ground-up.ch2/eval4235 (REPL:1).\n",
      "clojure.core$str cannot be cast to clojure.lang.Named\n"
     ]
    },
    {
     "ename": "class java.lang.ClassCastException",
     "evalue": "",
     "output_type": "error",
     "traceback": [
      "   core.clj:  1595 clojure.core$name/invokeStatic",
      "   core.clj:  1589 clojure.core$name/invoke",
      "   core.clj:  3214 clojure.core$eval/invokeStatic",
      "   core.clj:  3210 clojure.core$eval/invoke",
      "   main.clj:   437 clojure.main$repl$read_eval_print__9086$fn__9089/invoke",
      "   main.clj:   458 clojure.main$repl$fn__9095/invoke",
      "   main.clj:   368 clojure.main$repl/doInvoke",
      "RestFn.java:  1523 clojure.lang.RestFn/invoke",
      "   AFn.java:    22 clojure.lang.AFn/run",
      "   AFn.java:    22 clojure.lang.AFn/run",
      "Thread.java:   745 java.lang.Thread/run"
     ]
    }
   ],
   "source": [
    "(name clojure.core/str)"
   ]
  },
  {
   "cell_type": "code",
   "execution_count": 68,
   "id": "animated-shock",
   "metadata": {},
   "outputs": [
    {
     "data": {
      "text/plain": [
       "java.lang.String"
      ]
     },
     "execution_count": 68,
     "metadata": {},
     "output_type": "execute_result"
    }
   ],
   "source": [
    "(type (name 'clojure.core/str))"
   ]
  },
  {
   "cell_type": "code",
   "execution_count": 69,
   "id": "indonesian-russell",
   "metadata": {},
   "outputs": [
    {
     "data": {
      "text/plain": [
       "clojure.core$str"
      ]
     },
     "execution_count": 69,
     "metadata": {},
     "output_type": "execute_result"
    }
   ],
   "source": [
    "(type clojure.core/str)"
   ]
  },
  {
   "cell_type": "code",
   "execution_count": 70,
   "id": "embedded-fabric",
   "metadata": {},
   "outputs": [
    {
     "data": {
      "text/plain": [
       "clojure.lang.Symbol"
      ]
     },
     "execution_count": 70,
     "metadata": {},
     "output_type": "execute_result"
    }
   ],
   "source": [
    "(type 'clojure.core/str)"
   ]
  },
  {
   "cell_type": "markdown",
   "id": "consolidated-microphone",
   "metadata": {},
   "source": [
    "- the job of symbols is to refer to things, to point to other values. When evaluating a program, symbols are looked up and replaced by their corresponding values. "
   ]
  },
  {
   "cell_type": "markdown",
   "id": "configured-bolivia",
   "metadata": {},
   "source": [
    "### Keywords"
   ]
  },
  {
   "cell_type": "code",
   "execution_count": 71,
   "id": "divided-positive",
   "metadata": {},
   "outputs": [
    {
     "data": {
      "text/plain": [
       "clojure.lang.Keyword"
      ]
     },
     "execution_count": 71,
     "metadata": {},
     "output_type": "execute_result"
    }
   ],
   "source": [
    "(type :cat)"
   ]
  },
  {
   "cell_type": "code",
   "execution_count": 72,
   "id": "cardiovascular-lesbian",
   "metadata": {},
   "outputs": [
    {
     "data": {
      "text/plain": [
       "\":cat\""
      ]
     },
     "execution_count": 72,
     "metadata": {},
     "output_type": "execute_result"
    }
   ],
   "source": [
    "(str :cat)"
   ]
  },
  {
   "cell_type": "code",
   "execution_count": 73,
   "id": "floating-tournament",
   "metadata": {},
   "outputs": [
    {
     "data": {
      "text/plain": [
       "\"cat\""
      ]
     },
     "execution_count": 73,
     "metadata": {},
     "output_type": "execute_result"
    }
   ],
   "source": [
    "(name :cat)"
   ]
  },
  {
   "cell_type": "markdown",
   "id": "scientific-rescue",
   "metadata": {},
   "source": [
    "### Lists\n",
    "- a collection is a group of values. It's a container which provides some structure for things that it holds.\n",
    "- a collection contains elements or members"
   ]
  },
  {
   "cell_type": "code",
   "execution_count": 74,
   "id": "competent-hardwood",
   "metadata": {},
   "outputs": [
    {
     "data": {
      "text/plain": [
       "(1 2 3)"
      ]
     },
     "execution_count": 74,
     "metadata": {},
     "output_type": "execute_result"
    }
   ],
   "source": [
    "'(1 2 3) ;; we quote lists with a ' to prevent them from being evaluated. "
   ]
  },
  {
   "cell_type": "code",
   "execution_count": 75,
   "id": "trained-criterion",
   "metadata": {},
   "outputs": [
    {
     "data": {
      "text/plain": [
       "clojure.lang.PersistentList"
      ]
     },
     "execution_count": 75,
     "metadata": {},
     "output_type": "execute_result"
    }
   ],
   "source": [
    "(type '(1 2 3)) ;; not a symbol!"
   ]
  },
  {
   "cell_type": "code",
   "execution_count": 76,
   "id": "expanded-colombia",
   "metadata": {},
   "outputs": [
    {
     "data": {
      "text/plain": [
       "(1 2 3)"
      ]
     },
     "execution_count": 76,
     "metadata": {},
     "output_type": "execute_result"
    }
   ],
   "source": [
    "(list 1 2 3)"
   ]
  },
  {
   "cell_type": "code",
   "execution_count": 77,
   "id": "cultural-rubber",
   "metadata": {},
   "outputs": [
    {
     "data": {
      "text/plain": [
       "true"
      ]
     },
     "execution_count": 77,
     "metadata": {},
     "output_type": "execute_result"
    }
   ],
   "source": [
    "(= (list 1 2) (list 1 2))"
   ]
  },
  {
   "cell_type": "code",
   "execution_count": 78,
   "id": "continuing-adobe",
   "metadata": {},
   "outputs": [
    {
     "data": {
      "text/plain": [
       "(4 1 2 3)"
      ]
     },
     "execution_count": 78,
     "metadata": {},
     "output_type": "execute_result"
    }
   ],
   "source": [
    "(conj '(1 2 3) 4)"
   ]
  },
  {
   "cell_type": "markdown",
   "id": "fifty-edward",
   "metadata": {},
   "source": [
    "- internally, lists are stored as a chain of values (linked lists). It offers immediate access to the first elements."
   ]
  },
  {
   "cell_type": "code",
   "execution_count": 79,
   "id": "armed-california",
   "metadata": {},
   "outputs": [
    {
     "data": {
      "text/plain": [
       "1"
      ]
     },
     "execution_count": 79,
     "metadata": {},
     "output_type": "execute_result"
    }
   ],
   "source": [
    "(first (list 1 2 3))"
   ]
  },
  {
   "cell_type": "code",
   "execution_count": 80,
   "id": "standard-transcription",
   "metadata": {},
   "outputs": [
    {
     "data": {
      "text/plain": [
       "2"
      ]
     },
     "execution_count": 80,
     "metadata": {},
     "output_type": "execute_result"
    }
   ],
   "source": [
    "(second (list 1 2 3))"
   ]
  },
  {
   "cell_type": "code",
   "execution_count": 81,
   "id": "convertible-resolution",
   "metadata": {},
   "outputs": [
    {
     "data": {
      "text/plain": [
       "3"
      ]
     },
     "execution_count": 81,
     "metadata": {},
     "output_type": "execute_result"
    }
   ],
   "source": [
    "(nth (list 1 2 3) 2)"
   ]
  },
  {
   "cell_type": "markdown",
   "id": "collective-popularity",
   "metadata": {},
   "source": [
    "### Vectors"
   ]
  },
  {
   "cell_type": "code",
   "execution_count": 82,
   "id": "lightweight-banner",
   "metadata": {},
   "outputs": [
    {
     "data": {
      "text/plain": [
       "[1 2 3]"
      ]
     },
     "execution_count": 82,
     "metadata": {},
     "output_type": "execute_result"
    }
   ],
   "source": [
    "[1 2 3]"
   ]
  },
  {
   "cell_type": "code",
   "execution_count": 83,
   "id": "sound-eugene",
   "metadata": {},
   "outputs": [
    {
     "data": {
      "text/plain": [
       "clojure.lang.PersistentVector"
      ]
     },
     "execution_count": 83,
     "metadata": {},
     "output_type": "execute_result"
    }
   ],
   "source": [
    "(type [1 2 3])"
   ]
  },
  {
   "cell_type": "code",
   "execution_count": 84,
   "id": "romance-prague",
   "metadata": {},
   "outputs": [
    {
     "data": {
      "text/plain": [
       "[1 2 3]"
      ]
     },
     "execution_count": 84,
     "metadata": {},
     "output_type": "execute_result"
    }
   ],
   "source": [
    ";; create vector\n",
    "(vector 1 2 3)"
   ]
  },
  {
   "cell_type": "code",
   "execution_count": 85,
   "id": "suffering-dietary",
   "metadata": {},
   "outputs": [
    {
     "data": {
      "text/plain": [
       "[1 2 3]"
      ]
     },
     "execution_count": 85,
     "metadata": {},
     "output_type": "execute_result"
    }
   ],
   "source": [
    ";; change other structures into vectors\n",
    "(vec '(1 2 3))"
   ]
  },
  {
   "cell_type": "code",
   "execution_count": 86,
   "id": "abandoned-newsletter",
   "metadata": {},
   "outputs": [
    {
     "data": {
      "text/plain": [
       "[1 2 3 4]"
      ]
     },
     "execution_count": 86,
     "metadata": {},
     "output_type": "execute_result"
    }
   ],
   "source": [
    "(conj [1 2 3] 4)"
   ]
  },
  {
   "cell_type": "markdown",
   "id": "stupid-detroit",
   "metadata": {},
   "source": [
    "- `nth` is fast on vectors, this is because internally vectors are represented as a very broad tree of elements, where each part of the tree branches into 32 smaller trees. "
   ]
  },
  {
   "cell_type": "code",
   "execution_count": 87,
   "id": "median-sister",
   "metadata": {},
   "outputs": [
    {
     "data": {
      "text/plain": [
       "(2 3)"
      ]
     },
     "execution_count": 87,
     "metadata": {},
     "output_type": "execute_result"
    }
   ],
   "source": [
    "(rest [1 2 3])"
   ]
  },
  {
   "cell_type": "code",
   "execution_count": 88,
   "id": "regulated-angel",
   "metadata": {},
   "outputs": [
    {
     "data": {
      "text/plain": [
       "(2 3)"
      ]
     },
     "execution_count": 88,
     "metadata": {},
     "output_type": "execute_result"
    }
   ],
   "source": [
    "(next [1 2 3])"
   ]
  },
  {
   "cell_type": "markdown",
   "id": "moving-cabin",
   "metadata": {},
   "source": [
    "- `rest` and `next` differs only by what happens when there are no remaining elements. "
   ]
  },
  {
   "cell_type": "code",
   "execution_count": 89,
   "id": "indonesian-interface",
   "metadata": {},
   "outputs": [
    {
     "data": {
      "text/plain": [
       "()"
      ]
     },
     "execution_count": 89,
     "metadata": {},
     "output_type": "execute_result"
    }
   ],
   "source": [
    "(rest [1])"
   ]
  },
  {
   "cell_type": "code",
   "execution_count": 90,
   "id": "falling-trunk",
   "metadata": {},
   "outputs": [
    {
     "data": {
      "text/plain": [
       "nil"
      ]
     },
     "execution_count": 90,
     "metadata": {},
     "output_type": "execute_result"
    }
   ],
   "source": [
    "(next [1])"
   ]
  },
  {
   "cell_type": "code",
   "execution_count": 91,
   "id": "cooperative-trader",
   "metadata": {},
   "outputs": [
    {
     "data": {
      "text/plain": [
       "3"
      ]
     },
     "execution_count": 91,
     "metadata": {},
     "output_type": "execute_result"
    }
   ],
   "source": [
    "(last [1 2 3])"
   ]
  },
  {
   "cell_type": "code",
   "execution_count": 92,
   "id": "religious-making",
   "metadata": {},
   "outputs": [
    {
     "data": {
      "text/plain": [
       "3"
      ]
     },
     "execution_count": 92,
     "metadata": {},
     "output_type": "execute_result"
    }
   ],
   "source": [
    "(count [1 2 3])"
   ]
  },
  {
   "cell_type": "markdown",
   "id": "contemporary-haiti",
   "metadata": {},
   "source": [
    "- we can use vectors as verbs!"
   ]
  },
  {
   "cell_type": "code",
   "execution_count": 93,
   "id": "aerial-pontiac",
   "metadata": {},
   "outputs": [
    {
     "data": {
      "text/plain": [
       "\"dog\""
      ]
     },
     "execution_count": 93,
     "metadata": {},
     "output_type": "execute_result"
    }
   ],
   "source": [
    "([\"cat\" \"dog\" \"mouse\"] 1)"
   ]
  },
  {
   "cell_type": "code",
   "execution_count": 94,
   "id": "occupied-pregnancy",
   "metadata": {},
   "outputs": [
    {
     "data": {
      "text/plain": [
       "true"
      ]
     },
     "execution_count": 94,
     "metadata": {},
     "output_type": "execute_result"
    }
   ],
   "source": [
    "(= '(1 2 3) [1 2 3])"
   ]
  },
  {
   "cell_type": "code",
   "execution_count": 95,
   "id": "unexpected-success",
   "metadata": {},
   "outputs": [
    {
     "name": "stderr",
     "output_type": "stream",
     "text": [
      "Execution error (ClassCastException) at ground-up.ch2/eval4291 (REPL:1).\n",
      "clojure.lang.PersistentList cannot be cast to java.lang.Number\n"
     ]
    },
    {
     "ename": "class java.lang.ClassCastException",
     "evalue": "",
     "output_type": "error",
     "traceback": [
      "Numbers.java:   238 clojure.lang.Numbers/equiv",
      "    core.clj:  3214 clojure.core$eval/invokeStatic",
      "    core.clj:  3210 clojure.core$eval/invoke",
      "    main.clj:   437 clojure.main$repl$read_eval_print__9086$fn__9089/invoke",
      "    main.clj:   458 clojure.main$repl$fn__9095/invoke",
      "    main.clj:   368 clojure.main$repl/doInvoke",
      " RestFn.java:  1523 clojure.lang.RestFn/invoke",
      "    AFn.java:    22 clojure.lang.AFn/run",
      "    AFn.java:    22 clojure.lang.AFn/run",
      " Thread.java:   745 java.lang.Thread/run"
     ]
    }
   ],
   "source": [
    "(== '(1 2 3) [1 2 3])"
   ]
  },
  {
   "cell_type": "markdown",
   "id": "simple-banks",
   "metadata": {},
   "source": [
    "### Sets"
   ]
  },
  {
   "cell_type": "code",
   "execution_count": 96,
   "id": "intimate-general",
   "metadata": {},
   "outputs": [
    {
     "data": {
      "text/plain": [
       "#{:c :b :a}"
      ]
     },
     "execution_count": 96,
     "metadata": {},
     "output_type": "execute_result"
    }
   ],
   "source": [
    ";; sets are unordered\n",
    "#{:a :b :c}"
   ]
  },
  {
   "cell_type": "code",
   "execution_count": 97,
   "id": "changed-healing",
   "metadata": {},
   "outputs": [
    {
     "data": {
      "text/plain": [
       "[:c :b :a]"
      ]
     },
     "execution_count": 97,
     "metadata": {},
     "output_type": "execute_result"
    }
   ],
   "source": [
    ";; turn it into a vector for a particular order\n",
    "(vec #{:a :b :c})"
   ]
  },
  {
   "cell_type": "code",
   "execution_count": 98,
   "id": "south-complexity",
   "metadata": {},
   "outputs": [
    {
     "data": {
      "text/plain": [
       "(:a :b :c)"
      ]
     },
     "execution_count": 98,
     "metadata": {},
     "output_type": "execute_result"
    }
   ],
   "source": [
    ";; as for elements in sorted order\n",
    "(sort #{:a :b :c})"
   ]
  },
  {
   "cell_type": "code",
   "execution_count": 99,
   "id": "opened-riding",
   "metadata": {},
   "outputs": [
    {
     "data": {
      "text/plain": [
       "#{:c :b :d :a}"
      ]
     },
     "execution_count": 99,
     "metadata": {},
     "output_type": "execute_result"
    }
   ],
   "source": [
    "(conj #{:a :b :c} :d)"
   ]
  },
  {
   "cell_type": "code",
   "execution_count": 100,
   "id": "optical-healing",
   "metadata": {},
   "outputs": [
    {
     "data": {
      "text/plain": [
       "#{:c :b :a}"
      ]
     },
     "execution_count": 100,
     "metadata": {},
     "output_type": "execute_result"
    }
   ],
   "source": [
    "(conj #{:a :b :c} :b)"
   ]
  },
  {
   "cell_type": "code",
   "execution_count": 101,
   "id": "weighted-shoulder",
   "metadata": {},
   "outputs": [
    {
     "data": {
      "text/plain": [
       "#{:c :a}"
      ]
     },
     "execution_count": 101,
     "metadata": {},
     "output_type": "execute_result"
    }
   ],
   "source": [
    ";; remove elements using disj\n",
    "(disj #{:a :b :c} :b)"
   ]
  },
  {
   "cell_type": "code",
   "execution_count": 102,
   "id": "posted-cruise",
   "metadata": {},
   "outputs": [
    {
     "data": {
      "text/plain": [
       "true"
      ]
     },
     "execution_count": 102,
     "metadata": {},
     "output_type": "execute_result"
    }
   ],
   "source": [
    ";; check if an element is inside the set\n",
    "(contains? #{1 2 3} 3)"
   ]
  },
  {
   "cell_type": "code",
   "execution_count": 103,
   "id": "dressed-harassment",
   "metadata": {},
   "outputs": [
    {
     "data": {
      "text/plain": [
       "false"
      ]
     },
     "execution_count": 103,
     "metadata": {},
     "output_type": "execute_result"
    }
   ],
   "source": [
    "(contains? #{1 2 3} 5)"
   ]
  },
  {
   "cell_type": "markdown",
   "id": "bigger-prior",
   "metadata": {},
   "source": [
    "- Like vectors, sets can be used as a verb. this expression returns the element itself or `nil`"
   ]
  },
  {
   "cell_type": "code",
   "execution_count": 104,
   "id": "atmospheric-campus",
   "metadata": {},
   "outputs": [
    {
     "data": {
      "text/plain": [
       "3"
      ]
     },
     "execution_count": 104,
     "metadata": {},
     "output_type": "execute_result"
    }
   ],
   "source": [
    "(#{1 2 3} 3)"
   ]
  },
  {
   "cell_type": "code",
   "execution_count": 105,
   "id": "violent-newport",
   "metadata": {},
   "outputs": [
    {
     "data": {
      "text/plain": [
       "nil"
      ]
     },
     "execution_count": 105,
     "metadata": {},
     "output_type": "execute_result"
    }
   ],
   "source": [
    "(#{1 2 3} 5)"
   ]
  },
  {
   "cell_type": "code",
   "execution_count": 106,
   "id": "criminal-harrison",
   "metadata": {},
   "outputs": [
    {
     "data": {
      "text/plain": [
       "#{:c :b :a}"
      ]
     },
     "execution_count": 106,
     "metadata": {},
     "output_type": "execute_result"
    }
   ],
   "source": [
    ";; make a set from other collections\n",
    "(set [:a :b :c])"
   ]
  },
  {
   "cell_type": "markdown",
   "id": "competitive-terrorism",
   "metadata": {},
   "source": [
    "### Maps"
   ]
  },
  {
   "cell_type": "code",
   "execution_count": 107,
   "id": "colored-western",
   "metadata": {},
   "outputs": [
    {
     "data": {
      "text/plain": [
       "{:name \"mittens\", :weight 9, :color \"black\"}"
      ]
     },
     "execution_count": 107,
     "metadata": {},
     "output_type": "execute_result"
    }
   ],
   "source": [
    "{:name \"mittens\" :weight 9 :color \"black\"}"
   ]
  },
  {
   "cell_type": "code",
   "execution_count": 108,
   "id": "involved-survival",
   "metadata": {},
   "outputs": [
    {
     "data": {
      "text/plain": [
       "\"mittens\""
      ]
     },
     "execution_count": 108,
     "metadata": {},
     "output_type": "execute_result"
    }
   ],
   "source": [
    ";; look up using get\n",
    "(get {:name \"mittens\" :weight 9 :color \"black\"} :name)"
   ]
  },
  {
   "cell_type": "code",
   "execution_count": 109,
   "id": "impressive-permission",
   "metadata": {},
   "outputs": [
    {
     "data": {
      "text/plain": [
       "nil"
      ]
     },
     "execution_count": 109,
     "metadata": {},
     "output_type": "execute_result"
    }
   ],
   "source": [
    "(get {:name \"mittens\" :weight 9 :color \"black\"} :height)"
   ]
  },
  {
   "cell_type": "code",
   "execution_count": 110,
   "id": "polished-charleston",
   "metadata": {},
   "outputs": [
    {
     "data": {
      "text/plain": [
       ":not-here"
      ]
     },
     "execution_count": 110,
     "metadata": {},
     "output_type": "execute_result"
    }
   ],
   "source": [
    ";; get can take a default value\n",
    "(get {:name \"mittens\" :weight 9 :color \"black\"} :height :not-here)"
   ]
  },
  {
   "cell_type": "code",
   "execution_count": 111,
   "id": "minus-prerequisite",
   "metadata": {},
   "outputs": [
    {
     "data": {
      "text/plain": [
       "nil"
      ]
     },
     "execution_count": 111,
     "metadata": {},
     "output_type": "execute_result"
    }
   ],
   "source": [
    ";; use map as a verb\n",
    "({:name \"mittens\" :weight 9 :color \"black\"} :height)"
   ]
  },
  {
   "cell_type": "code",
   "execution_count": 112,
   "id": "sustained-projector",
   "metadata": {},
   "outputs": [
    {
     "data": {
      "text/plain": [
       ":not-here"
      ]
     },
     "execution_count": 112,
     "metadata": {},
     "output_type": "execute_result"
    }
   ],
   "source": [
    "({:name \"mittens\" :weight 9 :color \"black\"} :height :not-here)"
   ]
  },
  {
   "cell_type": "code",
   "execution_count": 113,
   "id": "entire-passenger",
   "metadata": {},
   "outputs": [
    {
     "data": {
      "text/plain": [
       "9"
      ]
     },
     "execution_count": 113,
     "metadata": {},
     "output_type": "execute_result"
    }
   ],
   "source": [
    ";; use keywords as verbs\n",
    "(:weight {:name \"mittens\" :weight 9 :color \"black\"})"
   ]
  },
  {
   "cell_type": "code",
   "execution_count": 114,
   "id": "prescribed-decade",
   "metadata": {},
   "outputs": [
    {
     "data": {
      "text/plain": [
       "{:bolts 1088, :camshafts 3}"
      ]
     },
     "execution_count": 114,
     "metadata": {},
     "output_type": "execute_result"
    }
   ],
   "source": [
    ";; add a value\n",
    "(assoc {:bolts 1088} :camshafts 3)"
   ]
  },
  {
   "cell_type": "code",
   "execution_count": 115,
   "id": "vulnerable-consciousness",
   "metadata": {},
   "outputs": [
    {
     "data": {
      "text/plain": [
       "{:camshafts 3}"
      ]
     },
     "execution_count": 115,
     "metadata": {},
     "output_type": "execute_result"
    }
   ],
   "source": [
    "(assoc {:camshafts 1088} :camshafts 3)"
   ]
  },
  {
   "cell_type": "code",
   "execution_count": 116,
   "id": "pretty-gnome",
   "metadata": {},
   "outputs": [
    {
     "data": {
      "text/plain": [
       "{5 2}"
      ]
     },
     "execution_count": 116,
     "metadata": {},
     "output_type": "execute_result"
    }
   ],
   "source": [
    "(assoc nil 5 2)"
   ]
  },
  {
   "cell_type": "code",
   "execution_count": 117,
   "id": "golden-belfast",
   "metadata": {},
   "outputs": [
    {
     "data": {
      "text/plain": [
       "{:potatos 5}"
      ]
     },
     "execution_count": 117,
     "metadata": {},
     "output_type": "execute_result"
    }
   ],
   "source": [
    ";; remove a value \n",
    "(dissoc {:potatos 5 :mushrooms 2} :mushrooms)"
   ]
  },
  {
   "cell_type": "code",
   "execution_count": 118,
   "id": "north-three",
   "metadata": {},
   "outputs": [
    {
     "data": {
      "text/plain": [
       "{:a 1, :b 3, :c 4}"
      ]
     },
     "execution_count": 118,
     "metadata": {},
     "output_type": "execute_result"
    }
   ],
   "source": [
    ";; merge maps using `merge`, the merged map prefers values from later ones\n",
    "(merge {:a 1 :b 2} {:b 3 :c 4})"
   ]
  },
  {
   "cell_type": "code",
   "execution_count": 119,
   "id": "three-reducing",
   "metadata": {},
   "outputs": [
    {
     "data": {
      "text/plain": [
       "clojure.core$type"
      ]
     },
     "execution_count": 119,
     "metadata": {},
     "output_type": "execute_result"
    }
   ],
   "source": [
    "(type type)"
   ]
  }
 ],
 "metadata": {
  "kernelspec": {
   "display_name": "Clojure (clojupyter=0.3.2=1)",
   "language": "clojure",
   "name": "conda-clojupyter"
  },
  "language_info": {
   "file_extension": ".clj",
   "mimetype": "text/x-clojure",
   "name": "clojure",
   "version": "1.10.1"
  }
 },
 "nbformat": 4,
 "nbformat_minor": 5
}
